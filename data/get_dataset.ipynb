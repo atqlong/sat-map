{
    "cells": [
        {
            "cell_type": "code",
            "execution_count": 20,
            "source": [
                "import pandas as pd\n",
                "from skyfield.api import EarthSatellite, load, wgs84\n",
                "from datetime import datetime\n",
                "\n",
                "\n",
                "def get_data(url):\n",
                "    # Collect TLE data from URL\n",
                "    satellites = load.tle_file(url)\n",
                "    print('Loaded', len(satellites), 'satellites')\n",
                "    return satellites\n",
                "\n",
                "\n",
                "def create_dataset(sat_name, url):\n",
                "\n",
                "    satellites = get_data(url)\n",
                "\n",
                "    # Set the time of the dataset e.g. ts.now() gives you the positioning data of the satellites now.\n",
                "    ts = load.timescale()\n",
                "    t = ts.now()\n",
                "\n",
                "    # datetime object containing current date and time\n",
                "    now = datetime.now()\n",
                "\n",
                "    # dd/mm/YY H:M:S\n",
                "    export_time = now.strftime(\"%d-%m-%Y\")\n",
                "\n",
                "    # Arrays to store cleaned data.\n",
                "    name = []\n",
                "    lat = []\n",
                "    long = []\n",
                "    el = []\n",
                "\n",
                "    # Create columns for Pandas\n",
                "    cols = [\"name\", \"latitude\", \"longitude\", \"elevation\"]\n",
                "\n",
                "    # Use Skyfeild to clean the TLE file and append the data to a column array.\n",
                "    for sat in satellites:\n",
                "        geometry = sat.at(t)\n",
                "        subpoint = geometry.subpoint()\n",
                "        latitude = subpoint.latitude.degrees\n",
                "        longitude = subpoint.longitude.degrees\n",
                "        elevation = subpoint.elevation.km\n",
                "\n",
                "        name.append(sat.name)\n",
                "        lat.append(latitude)\n",
                "        long.append(longitude)\n",
                "        el.append(elevation)\n",
                "\n",
                "    # Merge the cleaned columns into a dataframe\n",
                "    sat_data = pd.DataFrame(\n",
                "        {'Name': name, 'Latitude': lat, 'Longitude': long, 'Elevation': el})\n",
                "\n",
                "    # Write a csv file with the cleaned data.\n",
                "    sat_data.to_csv(sat_name + \" \" + export_time + \".csv\")\n",
                "\n",
                "    print(sat_data)\n"
            ],
            "outputs": [],
            "metadata": {}
        },
        {
            "cell_type": "code",
            "execution_count": 21,
            "source": [
                "sat_datasets = {\n",
                "    \"starlink\": {\n",
                "        \"name\": \"Starlink\",\n",
                "        \"url\": 'https://celestrak.com/NORAD/elements/starlink.txt'\n",
                "    },\n",
                "    \"geo_comms\": {\n",
                "        \"name\": \"Geo Comms\",\n",
                "        \"url\": \"https://celestrak.com/NORAD/elements/geo.txt\"\n",
                "    },\n",
                "    \"one_web\": {\n",
                "        \"name\": \"OneWeb\",\n",
                "        \"url\": 'https://celestrak.com/NORAD/elements/oneweb.txt'\n",
                "    },\n",
                "    \"galileo\": {\n",
                "        \"name\": \"Galileo\",\n",
                "        \"url\": 'https://celestrak.com/NORAD/elements/galileo.txt'\n",
                "    },\n",
                "    \"space_stations\": {\n",
                "        \"name\": \"Space Stations\",\n",
                "        \"url\": 'https://celestrak.com/NORAD/elements/stations.txt'\n",
                "    },\n",
                "    \"gps\": {\n",
                "        \"name\": \"GPS\",\n",
                "        \"url\": 'https://celestrak.com/NORAD/elements/gps-ops.txt'\n",
                "    }\n",
                "}\n"
            ],
            "outputs": [],
            "metadata": {}
        },
        {
            "cell_type": "code",
            "execution_count": 22,
            "source": [
                "# Starlink\n",
                "name = sat_datasets.get(\"starlink\", {}).get(\"name\")\n",
                "url = sat_datasets.get(\"starlink\", {}).get(\"url\")\n",
                "\n",
                "create_dataset(name, url)\n"
            ],
            "outputs": [
                {
                    "output_type": "stream",
                    "name": "stdout",
                    "text": [
                        "Loaded 1661 satellites\n",
                        "               Name   Latitude   Longitude   Elevation\n",
                        "0       STARLINK-24 -50.076096 -112.817994  534.827731\n",
                        "1       STARLINK-61  49.673166   41.549884  505.039935\n",
                        "2       STARLINK-71  34.549413  -17.052294  511.543331\n",
                        "3       STARLINK-43  51.009897  -55.266565  433.052731\n",
                        "4       STARLINK-70  52.341192  -38.156865  379.820464\n",
                        "...             ...        ...         ...         ...\n",
                        "1656  STARLINK-2753 -29.611477  105.410600  361.057815\n",
                        "1657  STARLINK-2715 -30.188287  106.048254  360.552687\n",
                        "1658  STARLINK-3003 -75.316064 -168.033780  550.530898\n",
                        "1659  STARLINK-3004 -78.598063 -157.497239  550.429982\n",
                        "1660  STARLINK-3005 -64.832840  178.145248  544.383864\n",
                        "\n",
                        "[1661 rows x 4 columns]\n"
                    ]
                }
            ],
            "metadata": {}
        },
        {
            "cell_type": "code",
            "execution_count": 23,
            "source": [
                "# geo_comms\n",
                "name = sat_datasets.get(\"geo_comms\", {}).get(\"name\")\n",
                "url = sat_datasets.get(\"geo_comms\", {}).get(\"url\")\n",
                "\n",
                "create_dataset(name, url)\n"
            ],
            "outputs": [
                {
                    "output_type": "stream",
                    "name": "stdout",
                    "text": [
                        "Loaded 537 satellites\n",
                        "                      Name   Latitude   Longitude     Elevation\n",
                        "0                   TDRS 3   9.037448  -48.053026  35929.277798\n",
                        "1     FLTSATCOM 8 (USA 46) -12.289084   71.497218  35811.442942\n",
                        "2                SKYNET 4C  -7.605280   33.037262  35782.639264\n",
                        "3                   TDRS 5   1.787055 -167.866399  35685.638925\n",
                        "4                   TDRS 6  11.415829  -45.111898  35748.445789\n",
                        "..                     ...        ...         ...           ...\n",
                        "532                  TJS-6   0.569420  178.510476  35791.054128\n",
                        "533  SBIRS GEO-5 (USA 315)   7.851470 -118.944183  35702.511169\n",
                        "534             FENGYUN 4B  -0.002707  123.697998  35785.604905\n",
                        "535                  SXM-8  -0.042386 -120.488872  35783.116855\n",
                        "536          TIANLIAN 1-05  -2.939891   10.863052  35781.027361\n",
                        "\n",
                        "[537 rows x 4 columns]\n"
                    ]
                }
            ],
            "metadata": {}
        },
        {
            "cell_type": "code",
            "execution_count": 24,
            "source": [
                "# one_web\n",
                "name = sat_datasets.get(\"one_web\", {}).get(\"name\")\n",
                "url = sat_datasets.get(\"one_web\", {}).get(\"url\")\n",
                "\n",
                "create_dataset(name, url)\n"
            ],
            "outputs": [
                {
                    "output_type": "stream",
                    "name": "stdout",
                    "text": [
                        "Loaded 254 satellites\n",
                        "            Name   Latitude   Longitude    Elevation\n",
                        "0    ONEWEB-0012  46.501970   71.972356  1177.882109\n",
                        "1    ONEWEB-0010  -1.257583   69.523878  1174.673052\n",
                        "2    ONEWEB-0008  83.153193 -129.450182  1182.276694\n",
                        "3    ONEWEB-0007 -47.876322   67.491681  1193.422652\n",
                        "4    ONEWEB-0006 -85.814699   40.163365  1204.847937\n",
                        "..           ...        ...         ...          ...\n",
                        "249  ONEWEB-0280  51.406017   47.075697   640.993956\n",
                        "250  ONEWEB-0281  -3.346858 -136.034352   597.980468\n",
                        "251  ONEWEB-0282  23.397282 -137.258349   599.167082\n",
                        "252  ONEWEB-0283   0.384813 -136.188928   601.327104\n",
                        "253  ONEWEB-0284   3.140582 -136.289051   615.586807\n",
                        "\n",
                        "[254 rows x 4 columns]\n"
                    ]
                }
            ],
            "metadata": {}
        },
        {
            "cell_type": "code",
            "execution_count": 25,
            "source": [
                "# space_stations\n",
                "name = sat_datasets.get(\"galileo\", {}).get(\"name\")\n",
                "url = sat_datasets.get(\"galileo\", {}).get(\"url\")\n",
                "\n",
                "create_dataset(name, url)\n"
            ],
            "outputs": [
                {
                    "output_type": "stream",
                    "name": "stdout",
                    "text": [
                        "Loaded 26 satellites\n",
                        "                  Name   Latitude   Longitude     Elevation\n",
                        "0   GSAT0101 (PRN E11) -11.956239   35.783531  23231.181315\n",
                        "1   GSAT0102 (PRN E12) -46.862229   71.966751  23242.032449\n",
                        "2   GSAT0103 (PRN E19)   8.972562  141.967336  23224.662584\n",
                        "3   GSAT0104 (PRN E20)  -5.833286  152.375648  23223.821232\n",
                        "4   GSAT0201 (PRN E18) -38.406912  121.965608  26053.222539\n",
                        "5   GSAT0202 (PRN E14)  26.402100  -42.290117  17474.353704\n",
                        "6   GSAT0203 (PRN E26) -26.177738 -170.937536  23231.995717\n",
                        "7   GSAT0204 (PRN E22)   5.843247   24.073360  23215.167234\n",
                        "8   GSAT0205 (PRN E24) -35.537715   59.666329  23225.858640\n",
                        "9   GSAT0206 (PRN E30)  -0.634228  -90.963925  23226.387731\n",
                        "10  GSAT0209 (PRN E09)  51.847350   30.504617  23236.550589\n",
                        "11  GSAT0208 (PRN E08) -46.122941  -78.466515  23226.710916\n",
                        "12  GSAT0211 (PRN E02) -35.607440  -62.639188  23230.115005\n",
                        "13  GSAT0210 (PRN E01)  35.866886  117.666086  23234.367196\n",
                        "14  GSAT0207 (PRN E07) -51.674331 -148.514438  23231.430055\n",
                        "15  GSAT0212 (PRN E03) -13.208605  -41.288445  23214.850056\n",
                        "16  GSAT0213 (PRN E04)  45.408899  102.532011  23239.534399\n",
                        "17  GSAT0214 (PRN E05)  23.469668  -13.906656  23224.949492\n",
                        "18  GSAT0215 (PRN E21)  55.944830  174.682905  23241.391618\n",
                        "19  GSAT0216 (PRN E25) -55.968778   -4.423990  23226.935902\n",
                        "20  GSAT0217 (PRN E27)  37.108232 -122.343136  23236.624044\n",
                        "21  GSAT0218 (PRN E31)  -1.371594   87.414867  23223.953173\n",
                        "22  GSAT0221 (PRN E15)  46.959218 -108.411222  23232.563134\n",
                        "23  GSAT0222 (PRN E33) -53.933836  144.832331  23237.759660\n",
                        "24  GSAT0219 (PRN E36)  24.617816   10.385845  23224.878472\n",
                        "25  GSAT0220 (PRN E13)  12.808717 -143.873413  23222.275425\n"
                    ]
                }
            ],
            "metadata": {}
        },
        {
            "cell_type": "code",
            "execution_count": 26,
            "source": [
                "# galileo\n",
                "name = sat_datasets.get(\"space_stations\", {}).get(\"name\")\n",
                "url = sat_datasets.get(\"space_stations\", {}).get(\"url\")\n",
                "\n",
                "create_dataset(name, url)\n"
            ],
            "outputs": [
                {
                    "output_type": "stream",
                    "name": "stdout",
                    "text": [
                        "Loaded 66 satellites\n",
                        "                      Name   Latitude   Longitude   Elevation\n",
                        "0              ISS (ZARYA)  -1.295255  -75.093847  421.321545\n",
                        "1   KESTREL EYE IIM (KE2M)  -3.237305  113.927281  234.859025\n",
                        "2             AEROCUBE 12A  25.538564  121.963830  467.690813\n",
                        "3             AEROCUBE 12B  40.615335 -120.553853  479.572874\n",
                        "4               LEMUR-2-VU -51.348403   -8.858375  479.477335\n",
                        "..                     ...        ...         ...         ...\n",
                        "61                   BD-28 -12.338820  115.433302  420.451415\n",
                        "62               MIR-SAT 1  -1.148562  106.453105  416.989831\n",
                        "63          PROGRESS-MS 17  -1.298872  -75.096895  421.365750\n",
                        "64             ISS (NAUKA)  -1.298872  -75.096895  421.365750\n",
                        "65               SL-25 R/B  28.906126   75.184288  166.850982\n",
                        "\n",
                        "[66 rows x 4 columns]\n"
                    ]
                }
            ],
            "metadata": {}
        },
        {
            "cell_type": "code",
            "execution_count": 27,
            "source": [
                "# gps\n",
                "name = sat_datasets.get(\"gps\", {}).get(\"name\")\n",
                "url = sat_datasets.get(\"gps\", {}).get(\"url\")\n",
                "\n",
                "create_dataset(name, url)\n"
            ],
            "outputs": [
                {
                    "output_type": "stream",
                    "name": "stdout",
                    "text": [
                        "Loaded 30 satellites\n",
                        "                    Name   Latitude   Longitude     Elevation\n",
                        "0   GPS BIIR-2  (PRN 13) -55.449290 -108.252090  20312.361574\n",
                        "1   GPS BIIR-4  (PRN 20)  -5.128074  -93.860303  20328.214246\n",
                        "2   GPS BIIR-8  (PRN 16) -21.859441   87.705564  20049.653228\n",
                        "3   GPS BIIR-9  (PRN 21)  -5.134515   37.672162  20391.845698\n",
                        "4   GPS BIIR-10 (PRN 22)  37.712956   57.899986  20373.174414\n",
                        "5   GPS BIIR-11 (PRN 19)  37.112151  -46.017192  19964.930472\n",
                        "6   GPS BIIR-13 (PRN 02)  37.814833 -113.340576  20559.984653\n",
                        "7   GPS BIIRM-1 (PRN 17)  20.305037  -32.471831  20332.206444\n",
                        "8   GPS BIIRM-2 (PRN 31)  50.337135   98.149592  20036.968197\n",
                        "9   GPS BIIRM-3 (PRN 12)  50.866851 -134.220945  20025.827706\n",
                        "10  GPS BIIRM-4 (PRN 15) -49.132608 -148.948585  20540.832708\n",
                        "11  GPS BIIRM-5 (PRN 29)  14.475921  172.416164  20202.697104\n",
                        "12  GPS BIIRM-6 (PRN 07) -37.830853    5.204838  20140.640100\n",
                        "13  GPS BIIRM-8 (PRN 05) -32.023662 -109.858590  20200.320811\n",
                        "14  GPS BIIF-1  (PRN 25)  54.618383  177.834234  19965.109131\n",
                        "15  GPS BIIF-2  (PRN 01)  10.104274   32.176095  20315.863991\n",
                        "16  GPS BIIF-3  (PRN 24)  -1.177733 -144.892706  20406.713344\n",
                        "17  GPS BIIF-4  (PRN 27) -55.270757   81.049407  20317.487087\n",
                        "18  GPS BIIF-5  (PRN 30) -53.003188  -37.543179  20156.550742\n",
                        "19  GPS BIIF-6  (PRN 06)  53.607217  -77.334745  20231.277169\n",
                        "20  GPS BIIF-7  (PRN 09)  10.646183  -15.006965  20184.709493\n",
                        "21  GPS BIIF-8  (PRN 03)  50.935725   41.010118  20140.302244\n",
                        "22  GPS BIIF-9  (PRN 26)   5.153278   99.483221  20026.334798\n",
                        "23  GPS BIIF-10 (PRN 08) -51.185278   36.183659  20258.190842\n",
                        "24  GPS BIIF-11 (PRN 10) -28.639492  120.144507  20007.622787\n",
                        "25  GPS BIIF-12 (PRN 32)  24.677561  139.099018  20151.796074\n",
                        "26  GPS BIII-1  (PRN 04)  33.691678    8.011826  20218.522770\n",
                        "27  GPS BIII-2  (PRN 18) -43.953025  178.144400  20226.035827\n",
                        "28  GPS BIII-3  (PRN 23) -48.413363  148.000698  20196.845432\n",
                        "29  GPS BIII-4  (PRN 14) -27.033145  -58.091503  20171.127590\n"
                    ]
                }
            ],
            "metadata": {}
        }
    ],
    "metadata": {
        "orig_nbformat": 4,
        "language_info": {
            "name": "python",
            "version": "3.8.10",
            "mimetype": "text/x-python",
            "codemirror_mode": {
                "name": "ipython",
                "version": 3
            },
            "pygments_lexer": "ipython3",
            "nbconvert_exporter": "python",
            "file_extension": ".py"
        },
        "kernelspec": {
            "name": "python3",
            "display_name": "Python 3.8.10 64-bit ('base': conda)"
        },
        "interpreter": {
            "hash": "8d71d19f66818dae96964f11a2d9c414f1f10fd3c6009bdb3ec8a4349b682022"
        }
    },
    "nbformat": 4,
    "nbformat_minor": 2
}