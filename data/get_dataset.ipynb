{
    "cells": [
        {
            "cell_type": "code",
            "execution_count": 37,
            "source": [
                "import pandas as pd\n",
                "from skyfield.api import EarthSatellite, load, wgs84\n",
                "from datetime import datetime\n",
                "\n",
                "\n",
                "def get_data(url):\n",
                "    # Collect TLE data from URL\n",
                "    satellites = load.tle_file(url)\n",
                "    print('Loaded', len(satellites), 'satellites')\n",
                "    return satellites\n",
                "\n",
                "\n",
                "def create_dataset(sat_name, url):\n",
                "    # Creates a dataset stored in a csv file which includes the sat's name, lat, lon and elevation.\n",
                "\n",
                "    satellites = get_data(url)\n",
                "\n",
                "    # Set the time of the dataset e.g. ts.now() gives you the positioning data of the satellites now.\n",
                "    ts = load.timescale()\n",
                "    t = ts.now()\n",
                "\n",
                "    # datetime object containing current date and time\n",
                "    now = datetime.now()\n",
                "\n",
                "    # dd/mm/YY H:M:S\n",
                "    export_time = now.strftime(\"%d-%m-%Y\")\n",
                "\n",
                "    # Arrays to store cleaned data.\n",
                "    name = []\n",
                "    lat = []\n",
                "    long = []\n",
                "    el = []\n",
                "\n",
                "    # Create columns for Pandas\n",
                "    cols = [\"name\", \"latitude\", \"longitude\", \"elevation\"]\n",
                "\n",
                "    # Stores the Earths radius to allow the radius to be added to the elvation of the satellites\n",
                "    earth_radius = 6378137\n",
                "\n",
                "    # Use Skyfeild to clean the TLE file and append the data to a column array.\n",
                "    for sat in satellites:\n",
                "        geometry = sat.at(t)\n",
                "        subpoint = geometry.subpoint()\n",
                "        latitude = subpoint.latitude.degrees\n",
                "        longitude = subpoint.longitude.degrees\n",
                "        elevation = subpoint.elevation.m\n",
                "\n",
                "        name.append(sat.name)\n",
                "        lat.append(latitude)\n",
                "        long.append(longitude)\n",
                "        el.append(elevation + earth_radius)\n",
                "\n",
                "    # Merge the cleaned columns into a dataframe\n",
                "    sat_data = pd.DataFrame(\n",
                "        {'Name': name, 'Latitude': lat, 'Longitude': long, 'Elevation': el})\n",
                "\n",
                "    # Write a csv file with the cleaned data.\n",
                "    sat_data.to_csv(sat_name + \" \" + export_time + \".csv\")\n",
                "\n",
                "    print(sat_data)\n"
            ],
            "outputs": [],
            "metadata": {}
        },
        {
            "cell_type": "code",
            "execution_count": 38,
            "source": [
                "sat_datasets = {\n",
                "    \"starlink\": {\n",
                "        \"name\": \"Starlink\",\n",
                "        \"url\": 'https://celestrak.com/NORAD/elements/starlink.txt'\n",
                "    },\n",
                "    \"geo_comms\": {\n",
                "        \"name\": \"Geo Comms\",\n",
                "        \"url\": \"https://celestrak.com/NORAD/elements/geo.txt\"\n",
                "    },\n",
                "    \"one_web\": {\n",
                "        \"name\": \"OneWeb\",\n",
                "        \"url\": 'https://celestrak.com/NORAD/elements/oneweb.txt'\n",
                "    },\n",
                "    \"galileo\": {\n",
                "        \"name\": \"Galileo\",\n",
                "        \"url\": 'https://celestrak.com/NORAD/elements/galileo.txt'\n",
                "    },\n",
                "    \"space_stations\": {\n",
                "        \"name\": \"Space Stations\",\n",
                "        \"url\": 'https://celestrak.com/NORAD/elements/stations.txt'\n",
                "    },\n",
                "    \"gps\": {\n",
                "        \"name\": \"GPS\",\n",
                "        \"url\": 'https://celestrak.com/NORAD/elements/gps-ops.txt'\n",
                "    }\n",
                "}\n"
            ],
            "outputs": [],
            "metadata": {}
        },
        {
            "cell_type": "code",
            "execution_count": 39,
            "source": [
                "# Starlink\n",
                "name = sat_datasets.get(\"starlink\", {}).get(\"name\")\n",
                "url = sat_datasets.get(\"starlink\", {}).get(\"url\")\n",
                "\n",
                "create_dataset(name, url)\n"
            ],
            "outputs": [
                {
                    "output_type": "stream",
                    "name": "stdout",
                    "text": [
                        "Loaded 1661 satellites\n",
                        "               Name   Latitude   Longitude     Elevation\n",
                        "0       STARLINK-24  28.031356  -59.859880  6.895130e+06\n",
                        "1       STARLINK-61 -51.575536  140.311094  6.894691e+06\n",
                        "2       STARLINK-71   8.290838   91.418194  6.888867e+06\n",
                        "3       STARLINK-43  50.437892 -136.988541  6.810820e+06\n",
                        "4       STARLINK-70 -22.862007   21.595360  6.757111e+06\n",
                        "...             ...        ...         ...           ...\n",
                        "1656  STARLINK-2753  22.088225 -117.066063  6.726046e+06\n",
                        "1657  STARLINK-2715  22.640098 -116.557457  6.727870e+06\n",
                        "1658  STARLINK-3003  13.173132  137.468675  6.905796e+06\n",
                        "1659  STARLINK-3004   9.154517  138.014888  6.906414e+06\n",
                        "1660  STARLINK-3005  23.754466  135.924177  6.902621e+06\n",
                        "\n",
                        "[1661 rows x 4 columns]\n"
                    ]
                }
            ],
            "metadata": {}
        },
        {
            "cell_type": "code",
            "execution_count": 40,
            "source": [
                "# geo_comms\n",
                "name = sat_datasets.get(\"geo_comms\", {}).get(\"name\")\n",
                "url = sat_datasets.get(\"geo_comms\", {}).get(\"url\")\n",
                "\n",
                "create_dataset(name, url)\n"
            ],
            "outputs": [
                {
                    "output_type": "stream",
                    "name": "stdout",
                    "text": [
                        "Loaded 537 satellites\n",
                        "                      Name   Latitude   Longitude     Elevation\n",
                        "0                   TDRS 3   3.837581  -48.653950  4.230165e+07\n",
                        "1     FLTSATCOM 8 (USA 46) -12.879502   72.080331  4.219476e+07\n",
                        "2                SKYNET 4C -11.780238   33.047350  4.216576e+07\n",
                        "3                   TDRS 5   7.531674 -168.336370  4.206994e+07\n",
                        "4                   TDRS 6   6.898061  -45.210774  4.213466e+07\n",
                        "..                     ...        ...         ...           ...\n",
                        "532                  TJS-6   0.559003  178.492656  4.216984e+07\n",
                        "533  SBIRS GEO-5 (USA 315)   6.649620 -116.597213  4.207625e+07\n",
                        "534             FENGYUN 4B  -0.038250  123.722865  4.216476e+07\n",
                        "535                  SXM-8  -0.022642 -120.466022  4.215754e+07\n",
                        "536          TIANLIAN 1-05  -2.744941   10.945990  4.216040e+07\n",
                        "\n",
                        "[537 rows x 4 columns]\n"
                    ]
                }
            ],
            "metadata": {}
        },
        {
            "cell_type": "code",
            "execution_count": 41,
            "source": [
                "# one_web\n",
                "name = sat_datasets.get(\"one_web\", {}).get(\"name\")\n",
                "url = sat_datasets.get(\"one_web\", {}).get(\"url\")\n",
                "\n",
                "create_dataset(name, url)\n"
            ],
            "outputs": [
                {
                    "output_type": "stream",
                    "name": "stdout",
                    "text": [
                        "Loaded 254 satellites\n",
                        "            Name   Latitude   Longitude     Elevation\n",
                        "0    ONEWEB-0012  29.786438 -136.898307  7.552948e+06\n",
                        "1    ONEWEB-0010  78.607108 -147.019826  7.562616e+06\n",
                        "2    ONEWEB-0008 -22.965556 -134.643179  7.557739e+06\n",
                        "3    ONEWEB-0007  51.933355   47.284324  7.559563e+06\n",
                        "4    ONEWEB-0006  11.028628   45.063535  7.554699e+06\n",
                        "..           ...        ...         ...           ...\n",
                        "249  ONEWEB-0280 -25.894233 -160.275099  7.038498e+06\n",
                        "250  ONEWEB-0281  55.896222   22.110545  7.002825e+06\n",
                        "251  ONEWEB-0282  16.458211   19.171897  7.006380e+06\n",
                        "252  ONEWEB-0283  42.859360   20.757931  7.003342e+06\n",
                        "253  ONEWEB-0284  10.553943   18.927520  7.015606e+06\n",
                        "\n",
                        "[254 rows x 4 columns]\n"
                    ]
                }
            ],
            "metadata": {}
        },
        {
            "cell_type": "code",
            "execution_count": 42,
            "source": [
                "# space_stations\n",
                "name = sat_datasets.get(\"galileo\", {}).get(\"name\")\n",
                "url = sat_datasets.get(\"galileo\", {}).get(\"url\")\n",
                "\n",
                "create_dataset(name, url)\n"
            ],
            "outputs": [
                {
                    "output_type": "stream",
                    "name": "stdout",
                    "text": [
                        "Loaded 26 satellites\n",
                        "                  Name   Latitude   Longitude     Elevation\n",
                        "0   GSAT0101 (PRN E11)  16.969581 -165.470459  2.959312e+07\n",
                        "1   GSAT0102 (PRN E12)  50.323219 -125.097765  2.960419e+07\n",
                        "2   GSAT0103 (PRN E19)  -3.899702  -59.229418  2.959962e+07\n",
                        "3   GSAT0104 (PRN E20)  10.851362  -48.823417  2.959996e+07\n",
                        "4   GSAT0201 (PRN E18) -49.575895   33.375481  3.162164e+07\n",
                        "5   GSAT0202 (PRN E14)  41.870868 -175.446271  2.483588e+07\n",
                        "6   GSAT0203 (PRN E26)  21.253707  -11.695044  2.959767e+07\n",
                        "7   GSAT0204 (PRN E22)  -0.732229 -177.347559  2.960719e+07\n",
                        "8   GSAT0205 (PRN E24)  30.923248 -140.130857  2.961020e+07\n",
                        "9   GSAT0206 (PRN E30)   5.719994   67.706707  2.959637e+07\n",
                        "10  GSAT0209 (PRN E09) -53.776265 -164.776152  2.961176e+07\n",
                        "11  GSAT0208 (PRN E08)  42.409519   83.662649  2.961726e+07\n",
                        "12  GSAT0211 (PRN E02)  39.982571   98.130336  2.960885e+07\n",
                        "13  GSAT0210 (PRN E01) -40.173751  -81.600325  2.960361e+07\n",
                        "14  GSAT0207 (PRN E07)  53.573831   16.439076  2.961879e+07\n",
                        "15  GSAT0212 (PRN E03)   8.218119  117.603137  2.961010e+07\n",
                        "16  GSAT0213 (PRN E04) -41.690943  -95.483306  2.960341e+07\n",
                        "17  GSAT0214 (PRN E05) -28.166012  145.653585  2.960570e+07\n",
                        "18  GSAT0215 (PRN E21) -55.778103  -19.139031  2.961002e+07\n",
                        "19  GSAT0216 (PRN E25)  55.725566  161.703390  2.962410e+07\n",
                        "20  GSAT0217 (PRN E27) -32.586300   38.004525  2.960028e+07\n",
                        "21  GSAT0218 (PRN E31)  -3.654742 -113.981451  2.959790e+07\n",
                        "22  GSAT0221 (PRN E15) -50.433837   54.504504  2.961346e+07\n",
                        "23  GSAT0222 (PRN E33)  51.208334  -50.858567  2.961108e+07\n",
                        "24  GSAT0219 (PRN E36) -19.654555  169.479130  2.960330e+07\n",
                        "25  GSAT0220 (PRN E13) -17.910442   14.947102  2.960362e+07\n"
                    ]
                }
            ],
            "metadata": {}
        },
        {
            "cell_type": "code",
            "execution_count": 43,
            "source": [
                "# galileo\n",
                "name = sat_datasets.get(\"space_stations\", {}).get(\"name\")\n",
                "url = sat_datasets.get(\"space_stations\", {}).get(\"url\")\n",
                "\n",
                "create_dataset(name, url)\n"
            ],
            "outputs": [
                {
                    "output_type": "stream",
                    "name": "stdout",
                    "text": [
                        "Loaded 66 satellites\n",
                        "                      Name   Latitude   Longitude     Elevation\n",
                        "0              ISS (ZARYA)  -8.329420 -115.635462  6.800506e+06\n",
                        "1   KESTREL EYE IIM (KE2M)  49.265465 -165.628241  6.622572e+06\n",
                        "2             AEROCUBE 12A -50.539417  -41.850483  6.864646e+06\n",
                        "3             AEROCUBE 12B -11.534717   57.974971  6.847427e+06\n",
                        "4               LEMUR-2-VU  25.155519 -145.055173  6.845925e+06\n",
                        "..                     ...        ...         ...           ...\n",
                        "61                   BD-28 -14.554777   82.341219  6.799117e+06\n",
                        "62               MIR-SAT 1  -4.343711   74.003934  6.795539e+06\n",
                        "63          PROGRESS-MS 17  -8.331411 -115.636979  6.800560e+06\n",
                        "64             ISS (NAUKA)  -8.331411 -115.636979  6.800560e+06\n",
                        "65               SL-25 R/B  24.443533  -94.347930  6.565583e+06\n",
                        "\n",
                        "[66 rows x 4 columns]\n"
                    ]
                }
            ],
            "metadata": {}
        },
        {
            "cell_type": "code",
            "execution_count": 44,
            "source": [
                "# gps\n",
                "name = sat_datasets.get(\"gps\", {}).get(\"name\")\n",
                "url = sat_datasets.get(\"gps\", {}).get(\"url\")\n",
                "\n",
                "create_dataset(name, url)\n"
            ],
            "outputs": [
                {
                    "output_type": "stream",
                    "name": "stdout",
                    "text": [
                        "Loaded 30 satellites\n",
                        "                    Name   Latitude   Longitude     Elevation\n",
                        "0   GPS BIIR-2  (PRN 13) -34.226658  -66.750534  2.658538e+07\n",
                        "1   GPS BIIR-4  (PRN 20)  33.349334  -86.205310  2.665456e+07\n",
                        "2   GPS BIIR-8  (PRN 16)  19.472432   92.624271  2.625125e+07\n",
                        "3   GPS BIIR-9  (PRN 21) -42.822133   49.854262  2.624512e+07\n",
                        "4   GPS BIIR-10 (PRN 22)   0.318710   67.491638  2.667339e+07\n",
                        "5   GPS BIIR-11 (PRN 19)  -3.100867  -38.342369  2.649243e+07\n",
                        "6   GPS BIIR-13 (PRN 02)  54.780653  -70.193066  2.711146e+07\n",
                        "7   GPS BIIRM-1 (PRN 17) -20.635369  -28.453411  2.641152e+07\n",
                        "8   GPS BIIRM-2 (PRN 31)  44.851185  150.346207  2.663426e+07\n",
                        "9   GPS BIIRM-3 (PRN 12)  16.239073 -113.779779  2.655976e+07\n",
                        "10  GPS BIIRM-4 (PRN 15) -44.411392 -100.161141  2.673652e+07\n",
                        "11  GPS BIIRM-5 (PRN 29)  50.150581 -169.536360  2.654760e+07\n",
                        "12  GPS BIIRM-6 (PRN 07)   0.260926   14.156356  2.683294e+07\n",
                        "13  GPS BIIRM-8 (PRN 05)   7.821613 -103.057724  2.644528e+07\n",
                        "14  GPS BIIF-1  (PRN 25)  35.954611 -137.063060  2.651280e+07\n",
                        "15  GPS BIIF-2  (PRN 01) -29.877910   36.517752  2.685106e+07\n",
                        "16  GPS BIIF-3  (PRN 24) -38.109702 -135.226112  2.686670e+07\n",
                        "17  GPS BIIF-4  (PRN 27) -27.015530  113.329328  2.647634e+07\n",
                        "18  GPS BIIF-5  (PRN 30) -25.892177   -6.009691  2.664350e+07\n",
                        "19  GPS BIIF-6  (PRN 06)  43.348090  -25.114039  2.662598e+07\n",
                        "20  GPS BIIF-7  (PRN 09)  46.515385    0.838020  2.653274e+07\n",
                        "21  GPS BIIF-8  (PRN 03)  16.685408   61.743207  2.659082e+07\n",
                        "22  GPS BIIF-9  (PRN 26)  42.499429  112.708232  2.644617e+07\n",
                        "23  GPS BIIF-10 (PRN 08) -45.051283   88.848258  2.649191e+07\n",
                        "24  GPS BIIF-11 (PRN 10) -55.402171  155.776125  2.646569e+07\n",
                        "25  GPS BIIF-12 (PRN 32) -15.693549  144.494786  2.644105e+07\n",
                        "26  GPS BIII-1  (PRN 04)  55.038884   49.095531  2.657925e+07\n",
                        "27  GPS BIII-2  (PRN 18)  -6.436336 -169.689593  2.660679e+07\n",
                        "28  GPS BIII-3  (PRN 23) -48.250078 -158.705513  2.660244e+07\n",
                        "29  GPS BIII-4  (PRN 14) -54.293588  -25.425592  2.657774e+07\n"
                    ]
                }
            ],
            "metadata": {}
        }
    ],
    "metadata": {
        "orig_nbformat": 4,
        "language_info": {
            "name": "python",
            "version": "3.8.10",
            "mimetype": "text/x-python",
            "codemirror_mode": {
                "name": "ipython",
                "version": 3
            },
            "pygments_lexer": "ipython3",
            "nbconvert_exporter": "python",
            "file_extension": ".py"
        },
        "kernelspec": {
            "name": "python3",
            "display_name": "Python 3.8.10 64-bit ('base': conda)"
        },
        "interpreter": {
            "hash": "8d71d19f66818dae96964f11a2d9c414f1f10fd3c6009bdb3ec8a4349b682022"
        }
    },
    "nbformat": 4,
    "nbformat_minor": 2
}