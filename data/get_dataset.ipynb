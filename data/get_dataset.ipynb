{
    "cells": [
        {
            "cell_type": "markdown",
            "source": [
                "<h1>Get each satelites dataset</h1>"
            ],
            "metadata": {}
        },
        {
            "cell_type": "code",
            "execution_count": 15,
            "source": [
                "import pandas as pd\n",
                "from skyfield.api import EarthSatellite, load, wgs84\n",
                "from datetime import datetime\n",
                "\n",
                "# Collect TLE data from URL\n",
                "def get_data(url):\n",
                "    satellites = load.tle_file(url)\n",
                "    print('Loaded', len(satellites), 'satellites')\n",
                "    return satellites\n",
                "\n",
                "def create_dataset(sat_name, url):\n",
                "\n",
                "    satellites = get_data(url)\n",
                "\n",
                "    # Set the time of the dataset e.g. ts.now() gives you the positioning data of the satellites now.\n",
                "    ts = load.timescale()\n",
                "    t = ts.now()\n",
                "\n",
                "    # datetime object containing current date and time\n",
                "    now = datetime.now()\n",
                "\n",
                "    # dd/mm/YY H:M:S\n",
                "    export_time = now.strftime(\"%d-%m-%Y\")\n",
                "\n",
                "    # Arrays to store cleaned data.\n",
                "    name = []\n",
                "    lat = []\n",
                "    long = []\n",
                "    el = []\n",
                "\n",
                "    # Create columns for Pandas\n",
                "    cols = [\"name\", \"latitude\", \"longitude\", \"elevation\"]\n",
                "\n",
                "    # Use Skyfeild to clean the TLE file and append the data to a column array.\n",
                "    for sat in satellites:\n",
                "        geometry = sat.at(t)\n",
                "        subpoint = geometry.subpoint()\n",
                "        latitude = subpoint.latitude.degrees\n",
                "        longitude = subpoint.longitude.degrees\n",
                "        elevation = subpoint.elevation.m\n",
                "\n",
                "        name.append(sat.name)\n",
                "        lat.append(latitude)\n",
                "        long.append(longitude)\n",
                "        el.append(elevation)\n",
                "\n",
                "    # Merge the cleaned columns into a dataframe\n",
                "    sat_data = pd.DataFrame(\n",
                "        {'Name': name, 'Latitude': lat, 'Longitude': long, 'Elevation': el})\n",
                "\n",
                "    # Write a csv file with the cleaned data.\n",
                "    sat_data.to_csv(sat_name + \" \" + export_time + \".csv\")\n",
                "\n",
                "    print(sat_data)\n"
            ],
            "outputs": [],
            "metadata": {}
        },
        {
            "cell_type": "markdown",
            "source": [
                "<h2>Geo Comms<h2>"
            ],
            "metadata": {}
        },
        {
            "cell_type": "code",
            "execution_count": 16,
            "source": [
                "sat_name = \"Geo Comms\"\n",
                "tle_url = 'https://celestrak.com/NORAD/elements/geo.txt'\n",
                "create_dataset(sat_name, tle_url)"
            ],
            "outputs": [
                {
                    "output_type": "stream",
                    "name": "stdout",
                    "text": [
                        "Loaded 537 satellites\n",
                        "                      Name   Latitude   Longitude     Elevation\n",
                        "0                   TDRS 3  12.809156  -48.105657  3.590754e+07\n",
                        "1     FLTSATCOM 8 (USA 46)  -9.167927   71.230356  3.580057e+07\n",
                        "2                SKYNET 4C  -1.684618   33.603604  3.577800e+07\n",
                        "3                   TDRS 5  -4.656769 -167.213663  3.569970e+07\n",
                        "4                   TDRS 6  13.927370  -45.712663  3.574793e+07\n",
                        "..                     ...        ...         ...           ...\n",
                        "532                  TJS-6   0.457520  178.514724  3.578932e+07\n",
                        "533  SBIRS GEO-5 (USA 315)   7.365216 -119.255408  3.570725e+07\n",
                        "534             FENGYUN 4B   0.032427  123.697289  3.578471e+07\n",
                        "535                  SXM-8  -0.058114 -120.489644  3.578741e+07\n",
                        "536          TIANLIAN 1-05  -2.544761   10.828824  3.578016e+07\n",
                        "\n",
                        "[537 rows x 4 columns]\n"
                    ]
                }
            ],
            "metadata": {}
        },
        {
            "cell_type": "markdown",
            "source": [
                "<h2>Starlink<h2>"
            ],
            "metadata": {}
        },
        {
            "cell_type": "code",
            "execution_count": 17,
            "source": [
                "sat_name = \"Starlink\"\n",
                "tle_url = 'https://celestrak.com/NORAD/elements/starlink.txt'\n",
                "create_dataset(sat_name, tle_url)"
            ],
            "outputs": [
                {
                    "output_type": "stream",
                    "name": "stdout",
                    "text": [
                        "Loaded 1661 satellites\n",
                        "               Name   Latitude   Longitude      Elevation\n",
                        "0       STARLINK-24 -47.730280 -146.954923  534065.784164\n",
                        "1       STARLINK-61  47.482926    5.184954  506248.949654\n",
                        "2       STARLINK-71   4.226688  -18.231782  510042.759492\n",
                        "3       STARLINK-43  42.062141  -98.215220  431216.183129\n",
                        "4       STARLINK-70  35.495990  -82.895881  376386.181825\n",
                        "...             ...        ...         ...            ...\n",
                        "1656  STARLINK-2753  12.830126   97.184902  354465.174074\n",
                        "1657  STARLINK-2715  12.228118   97.665032  350975.888954\n",
                        "1658  STARLINK-3003 -63.460404   -6.995721  541843.685646\n",
                        "1659  STARLINK-3004 -59.554408   -4.666379  539706.794240\n",
                        "1660  STARLINK-3005 -74.066956  -19.120499  545051.317851\n",
                        "\n",
                        "[1661 rows x 4 columns]\n"
                    ]
                }
            ],
            "metadata": {}
        },
        {
            "cell_type": "code",
            "execution_count": 18,
            "source": [
                "sat_name = \"OneWeb\"\n",
                "tle_url = 'https://celestrak.com/NORAD/elements/oneweb.txt'\n",
                "create_dataset(sat_name, tle_url)"
            ],
            "outputs": [
                {
                    "output_type": "stream",
                    "name": "stdout",
                    "text": [
                        "Loaded 254 satellites\n",
                        "            Name   Latitude   Longitude     Elevation\n",
                        "0    ONEWEB-0012  58.500312   99.678826  1.180503e+06\n",
                        "1    ONEWEB-0010  10.873192   96.408930  1.173469e+06\n",
                        "2    ONEWEB-0008  71.492974  -90.732880  1.181094e+06\n",
                        "3    ONEWEB-0007 -35.736014   94.688510  1.188273e+06\n",
                        "4    ONEWEB-0006 -74.083643   88.913019  1.203237e+06\n",
                        "..           ...        ...         ...           ...\n",
                        "249  ONEWEB-0280  22.520418   71.341334  6.371946e+05\n",
                        "250  ONEWEB-0281  28.428761 -111.124213  5.957110e+05\n",
                        "251  ONEWEB-0282  54.694195 -113.304617  6.037403e+05\n",
                        "252  ONEWEB-0283  31.839921 -111.320900  5.988967e+05\n",
                        "253  ONEWEB-0284  33.506976 -111.412941  6.148835e+05\n",
                        "\n",
                        "[254 rows x 4 columns]\n"
                    ]
                }
            ],
            "metadata": {}
        },
        {
            "cell_type": "code",
            "execution_count": 19,
            "source": [
                "sat_name = \"Galileo\"\n",
                "tle_url = 'https://celestrak.com/NORAD/elements/galileo.txt'\n",
                "create_dataset(sat_name, tle_url)"
            ],
            "outputs": [
                {
                    "output_type": "stream",
                    "name": "stdout",
                    "text": [
                        "Loaded 26 satellites\n",
                        "                  Name   Latitude   Longitude     Elevation\n",
                        "0   GSAT0101 (PRN E11)  25.203199   36.345002  2.322395e+07\n",
                        "1   GSAT0102 (PRN E12) -13.158893   62.997691  2.323123e+07\n",
                        "2   GSAT0103 (PRN E19)  42.729861  134.568000  2.323719e+07\n",
                        "3   GSAT0104 (PRN E20)  30.155941  150.773196  2.322734e+07\n",
                        "4   GSAT0201 (PRN E18) -50.492682  100.198719  2.574777e+07\n",
                        "5   GSAT0202 (PRN E14)  48.795197 -101.715744  1.768359e+07\n",
                        "6   GSAT0203 (PRN E26) -54.402340  167.600187  2.324028e+07\n",
                        "7   GSAT0204 (PRN E22)  41.112065   19.305110  2.322272e+07\n",
                        "8   GSAT0205 (PRN E24) -55.876879   26.034401  2.324053e+07\n",
                        "9   GSAT0206 (PRN E30)  35.181198  -93.541842  2.323102e+07\n",
                        "10  GSAT0209 (PRN E09)  23.111651   11.675674  2.321900e+07\n",
                        "11  GSAT0208 (PRN E08) -51.945094 -122.714590  2.323507e+07\n",
                        "12  GSAT0211 (PRN E02)   0.227498  -65.264996  2.322746e+07\n",
                        "13  GSAT0210 (PRN E01)   0.069302  114.936400  2.322300e+07\n",
                        "14  GSAT0207 (PRN E07) -23.288807 -167.681842  2.322924e+07\n",
                        "15  GSAT0212 (PRN E03) -45.674736  -51.646627  2.322832e+07\n",
                        "16  GSAT0213 (PRN E04)  51.952614   59.036116  2.324069e+07\n",
                        "17  GSAT0214 (PRN E05) -12.789120  -14.590050  2.321978e+07\n",
                        "18  GSAT0215 (PRN E21)  34.534813  142.383731  2.323362e+07\n",
                        "19  GSAT0216 (PRN E25) -34.871609  -37.237137  2.322179e+07\n",
                        "20  GSAT0217 (PRN E27)  55.968397 -157.947957  2.324443e+07\n",
                        "21  GSAT0218 (PRN E31) -36.995161   84.177207  2.322308e+07\n",
                        "22  GSAT0221 (PRN E15)  13.126076 -117.273618  2.322355e+07\n",
                        "23  GSAT0222 (PRN E33) -47.102754   98.245695  2.323589e+07\n",
                        "24  GSAT0219 (PRN E36)  54.012116   -9.104595  2.323270e+07\n",
                        "25  GSAT0220 (PRN E13) -24.468509 -143.109856  2.322693e+07\n"
                    ]
                }
            ],
            "metadata": {}
        },
        {
            "cell_type": "code",
            "execution_count": 20,
            "source": [
                "sat_name = \"Space Stations\"\n",
                "tle_url = 'https://celestrak.com/NORAD/elements/stations.txt'\n",
                "create_dataset(sat_name, tle_url)"
            ],
            "outputs": [
                {
                    "output_type": "stream",
                    "name": "stdout",
                    "text": [
                        "Loaded 66 satellites\n",
                        "                      Name   Latitude   Longitude      Elevation\n",
                        "0              ISS (ZARYA) -36.677683  -83.213340  431362.305651\n",
                        "1   KESTREL EYE IIM (KE2M) -47.081958   85.369189  252094.702791\n",
                        "2             AEROCUBE 12A  -8.047984  120.218021  466787.590888\n",
                        "3             AEROCUBE 12B  50.910491 -155.707417  478828.730139\n",
                        "4               LEMUR-2-VU -30.239813  -34.592939  474345.738830\n",
                        "..                     ...        ...         ...            ...\n",
                        "61                   BD-28  25.003192  110.731296  417764.573000\n",
                        "62               MIR-SAT 1  35.000345   98.852433  418699.329628\n",
                        "63          PROGRESS-MS 17 -36.680417  -83.216662  431433.193717\n",
                        "64             ISS (NAUKA) -36.680417  -83.216662  431433.193717\n",
                        "65               SL-25 R/B  48.672394   11.310660  190444.787259\n",
                        "\n",
                        "[66 rows x 4 columns]\n"
                    ]
                }
            ],
            "metadata": {}
        },
        {
            "cell_type": "code",
            "execution_count": 21,
            "source": [
                "sat_name = \"GPS\"\n",
                "tle_url = 'https://celestrak.com/NORAD/elements/gps-ops.txt'\n",
                "create_dataset(sat_name, tle_url)"
            ],
            "outputs": [
                {
                    "output_type": "stream",
                    "name": "stdout",
                    "text": [
                        "Loaded 30 satellites\n",
                        "                    Name   Latitude   Longitude     Elevation\n",
                        "0   GPS BIIR-2  (PRN 13) -29.023291 -145.621611  2.031807e+07\n",
                        "1   GPS BIIR-4  (PRN 20) -43.222988 -107.372999  2.028888e+07\n",
                        "2   GPS BIIR-8  (PRN 16) -54.228657   58.929859  2.034428e+07\n",
                        "3   GPS BIIR-9  (PRN 21)  34.784549   30.904140  2.079047e+07\n",
                        "4   GPS BIIR-10 (PRN 22)  52.304908   10.683159  2.031626e+07\n",
                        "5   GPS BIIR-11 (PRN 19)  55.035195  -96.415401  1.997969e+07\n",
                        "6   GPS BIIR-13 (PRN 02)  -2.687626 -121.730453  2.010505e+07\n",
                        "7   GPS BIIRM-1 (PRN 17)  53.732153  -57.518056  2.054127e+07\n",
                        "8   GPS BIIRM-2 (PRN 31)  14.144720   76.094603  1.991527e+07\n",
                        "9   GPS BIIRM-3 (PRN 12)  44.156518  169.835319  1.997890e+07\n",
                        "10  GPS BIIRM-4 (PRN 15) -15.735065 -170.251777  2.046289e+07\n",
                        "11  GPS BIIRM-5 (PRN 29) -28.200137  167.734676  2.023682e+07\n",
                        "12  GPS BIIRM-6 (PRN 07) -52.873569  -44.923346  1.984716e+07\n",
                        "13  GPS BIIRM-8 (PRN 05) -54.837738 -151.514720  2.033015e+07\n",
                        "14  GPS BIIF-1  (PRN 25)  24.905931  143.192851  1.994796e+07\n",
                        "15  GPS BIIF-2  (PRN 01)  48.671292   16.123375  2.006846e+07\n",
                        "16  GPS BIIF-3  (PRN 24)  38.229864 -155.227467  2.017139e+07\n",
                        "17  GPS BIIF-4  (PRN 27) -36.504643   34.404548  2.043723e+07\n",
                        "18  GPS BIIF-5  (PRN 30) -34.857227  -83.433234  2.005689e+07\n",
                        "19  GPS BIIF-6  (PRN 06)  18.964170 -102.273102  2.017162e+07\n",
                        "20  GPS BIIF-7  (PRN 09) -30.892317  -21.676594  2.023045e+07\n",
                        "21  GPS BIIF-8  (PRN 03)  44.104053  -14.063593  2.009196e+07\n",
                        "22  GPS BIIF-9  (PRN 26) -35.757097   90.196263  2.011739e+07\n",
                        "23  GPS BIIF-10 (PRN 08) -15.917897   14.685730  2.034654e+07\n",
                        "24  GPS BIIF-11 (PRN 10)  14.217802  114.305020  2.006706e+07\n",
                        "25  GPS BIIF-12 (PRN 32)  54.251691  106.577892  2.027742e+07\n",
                        "26  GPS BIII-1  (PRN 04)  -7.752130    0.894515  2.021645e+07\n",
                        "27  GPS BIII-2  (PRN 18) -51.072232  123.816604  2.019044e+07\n",
                        "28  GPS BIII-3  (PRN 23) -10.832786  130.513413  2.015528e+07\n",
                        "29  GPS BIII-4  (PRN 14)  15.019646  -63.986933  2.016069e+07\n"
                    ]
                }
            ],
            "metadata": {}
        }
    ],
    "metadata": {
        "orig_nbformat": 4,
        "language_info": {
            "name": "python",
            "version": "3.8.10",
            "mimetype": "text/x-python",
            "codemirror_mode": {
                "name": "ipython",
                "version": 3
            },
            "pygments_lexer": "ipython3",
            "nbconvert_exporter": "python",
            "file_extension": ".py"
        },
        "kernelspec": {
            "name": "python3",
            "display_name": "Python 3.8.10 64-bit ('base': conda)"
        },
        "interpreter": {
            "hash": "8d71d19f66818dae96964f11a2d9c414f1f10fd3c6009bdb3ec8a4349b682022"
        }
    },
    "nbformat": 4,
    "nbformat_minor": 2
}