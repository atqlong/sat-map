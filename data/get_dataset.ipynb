{
    "cells": [
        {
            "cell_type": "markdown",
            "source": [
                "<h1>Get each satelites dataset</h1>"
            ],
            "metadata": {}
        },
        {
            "cell_type": "code",
            "execution_count": 6,
            "source": [
                "import pandas as pd\n",
                "from skyfield.api import EarthSatellite, load, wgs84\n",
                "from datetime import datetime\n",
                "\n",
                "# Collect TLE data from URL\n",
                "\n",
                "\n",
                "def get_data(url):\n",
                "    satellites = load.tle_file(url)\n",
                "    print('Loaded', len(satellites), 'satellites')\n",
                "    return satellites\n",
                "\n",
                "\n",
                "def create_dataset(sat_name, url):\n",
                "\n",
                "    satellites = get_data(url)\n",
                "\n",
                "    # Set the time of the dataset e.g. ts.now() gives you the positioning data of the satellites now.\n",
                "    ts = load.timescale()\n",
                "    t = ts.now()\n",
                "\n",
                "    # datetime object containing current date and time\n",
                "    now = datetime.now()\n",
                "\n",
                "    # dd/mm/YY H:M:S\n",
                "    export_time = now.strftime(\"%d-%m-%Y\")\n",
                "\n",
                "    # Arrays to store cleaned data.\n",
                "    name = []\n",
                "    lat = []\n",
                "    long = []\n",
                "    el = []\n",
                "\n",
                "    # Create columns for Pandas\n",
                "    cols = [\"name\", \"latitude\", \"longitude\", \"elevation\"]\n",
                "\n",
                "    # Use Skyfeild to clean the TLE file and append the data to a column array.\n",
                "    for sat in satellites:\n",
                "        geometry = sat.at(t)\n",
                "        subpoint = geometry.subpoint()\n",
                "        latitude = subpoint.latitude.degrees\n",
                "        longitude = subpoint.longitude.degrees\n",
                "        elevation = subpoint.elevation.m\n",
                "\n",
                "        name.append(sat.name)\n",
                "        lat.append(latitude)\n",
                "        long.append(longitude)\n",
                "        el.append(elevation)\n",
                "\n",
                "    # Merge the cleaned columns into a dataframe\n",
                "    sat_data = pd.DataFrame(\n",
                "        {'Name': name, 'Latitude': lat, 'Longitude': long, 'Elevation': el})\n",
                "\n",
                "    # Write a csv file with the cleaned data.\n",
                "    sat_data.to_csv(sat_name + \" \" + export_time + \".csv\")\n",
                "\n",
                "    print(sat_data)\n"
            ],
            "outputs": [],
            "metadata": {}
        },
        {
            "cell_type": "code",
            "execution_count": 7,
            "source": [
                "sat_datasets = {\n",
                "    \"starlink\": {\n",
                "        \"name\": \"Starlink\",\n",
                "        \"url\": 'https://celestrak.com/NORAD/elements/geo.txt'\n",
                "    },\n",
                "    \"geo_comms\": {\n",
                "        \"name\": \"Geo Comms\",\n",
                "        \"url\": \"https://celestrak.com/NORAD/elements/geo.txt\"\n",
                "    },\n",
                "    \"one_web\": {\n",
                "        \"name\": \"OneWeb\",\n",
                "        \"url\": 'https://celestrak.com/NORAD/elements/oneweb.txt'\n",
                "    },\n",
                "    \"galileo\": {\n",
                "        \"name\": \"Galileo\",\n",
                "        \"url\": 'https://celestrak.com/NORAD/elements/galileo.txt'\n",
                "    },\n",
                "    \"space_stations\": {\n",
                "        \"name\": \"Space Stations\",\n",
                "        \"url\": 'https://celestrak.com/NORAD/elements/stations.txt'\n",
                "    },\n",
                "    \"gps\": {\n",
                "        \"name\": \"GPS\",\n",
                "        \"url\": 'https://celestrak.com/NORAD/elements/gps-ops.txt'\n",
                "    }\n",
                "}\n"
            ],
            "outputs": [],
            "metadata": {}
        },
        {
            "cell_type": "code",
            "execution_count": 8,
            "source": [
                "# Starlink\n",
                "name = sat_datasets.get(\"starlink\", {}).get(\"name\")\n",
                "url = sat_datasets.get(\"starlink\", {}).get(\"url\")\n",
                "\n",
                "create_dataset(name, url)\n"
            ],
            "outputs": [
                {
                    "output_type": "stream",
                    "name": "stdout",
                    "text": [
                        "Loaded 537 satellites\n",
                        "                      Name   Latitude   Longitude     Elevation\n",
                        "0                   TDRS 3  12.005556  -48.021310  3.591633e+07\n",
                        "1     FLTSATCOM 8 (USA 46) -10.255609   71.247927  3.580400e+07\n",
                        "2                SKYNET 4C  -3.405794   33.407580  3.577910e+07\n",
                        "3                   TDRS 5  -2.917702 -167.376243  3.569376e+07\n",
                        "4                   TDRS 6  13.516189  -45.496526  3.574723e+07\n",
                        "..                     ...        ...         ...           ...\n",
                        "532                  TJS-6   0.499349  178.513678  3.578987e+07\n",
                        "533  SBIRS GEO-5 (USA 315)   7.665212 -119.177773  3.570595e+07\n",
                        "534             FENGYUN 4B   0.023123  123.697599  3.578496e+07\n",
                        "535                  SXM-8  -0.054897 -120.489969  3.578623e+07\n",
                        "536          TIANLIAN 1-05  -2.712629   10.836426  3.578032e+07\n",
                        "\n",
                        "[537 rows x 4 columns]\n"
                    ]
                }
            ],
            "metadata": {}
        },
        {
            "cell_type": "code",
            "execution_count": 9,
            "source": [
                "# geo_comms\n",
                "name = sat_datasets.get(\"geo_comms\", {}).get(\"name\")\n",
                "url = sat_datasets.get(\"geo_comms\", {}).get(\"url\")\n",
                "\n",
                "create_dataset(name, url)\n"
            ],
            "outputs": [
                {
                    "output_type": "stream",
                    "name": "stdout",
                    "text": [
                        "Loaded 537 satellites\n",
                        "                      Name   Latitude   Longitude     Elevation\n",
                        "0                   TDRS 3  12.005489  -48.021305  3.591633e+07\n",
                        "1     FLTSATCOM 8 (USA 46) -10.255685   71.247930  3.580400e+07\n",
                        "2                SKYNET 4C  -3.405922   33.407566  3.577910e+07\n",
                        "3                   TDRS 5  -2.917570 -167.376256  3.569376e+07\n",
                        "4                   TDRS 6  13.516150  -45.496511  3.574723e+07\n",
                        "..                     ...        ...         ...           ...\n",
                        "532                  TJS-6   0.499352  178.513678  3.578987e+07\n",
                        "533  SBIRS GEO-5 (USA 315)   7.665230 -119.177767  3.570595e+07\n",
                        "534             FENGYUN 4B   0.023122  123.697599  3.578496e+07\n",
                        "535                  SXM-8  -0.054897 -120.489969  3.578623e+07\n",
                        "536          TIANLIAN 1-05  -2.712640   10.836426  3.578032e+07\n",
                        "\n",
                        "[537 rows x 4 columns]\n"
                    ]
                }
            ],
            "metadata": {}
        },
        {
            "cell_type": "code",
            "execution_count": 10,
            "source": [
                "# one_web\n",
                "name = sat_datasets.get(\"one_web\", {}).get(\"name\")\n",
                "url = sat_datasets.get(\"one_web\", {}).get(\"url\")\n",
                "\n",
                "create_dataset(name, url)\n"
            ],
            "outputs": [
                {
                    "output_type": "stream",
                    "name": "stdout",
                    "text": [
                        "Loaded 254 satellites\n",
                        "            Name   Latitude   Longitude     Elevation\n",
                        "0    ONEWEB-0012  25.444320  -92.380024  1.174194e+06\n",
                        "1    ONEWEB-0010  72.904722  -98.757216  1.183699e+06\n",
                        "2    ONEWEB-0008 -24.742475  -90.263871  1.180376e+06\n",
                        "3    ONEWEB-0007  60.517232   92.566792  1.183305e+06\n",
                        "4    ONEWEB-0006  21.877149   89.752430  1.176980e+06\n",
                        "..           ...        ...         ...           ...\n",
                        "249  ONEWEB-0280  50.104558 -120.053823  6.354547e+05\n",
                        "250  ONEWEB-0281 -79.558850 -103.425340  6.313861e+05\n",
                        "251  ONEWEB-0282 -53.658370 -113.662171  6.271843e+05\n",
                        "252  ONEWEB-0283 -76.144598 -106.868490  6.369258e+05\n",
                        "253  ONEWEB-0284 -74.206813 -108.106042  6.470504e+05\n",
                        "\n",
                        "[254 rows x 4 columns]\n"
                    ]
                }
            ],
            "metadata": {}
        },
        {
            "cell_type": "code",
            "execution_count": 11,
            "source": [
                "# space_stations\n",
                "name = sat_datasets.get(\"galileo\", {}).get(\"name\")\n",
                "url = sat_datasets.get(\"galileo\", {}).get(\"url\")\n",
                "\n",
                "create_dataset(name, url)\n"
            ],
            "outputs": [
                {
                    "output_type": "stream",
                    "name": "stdout",
                    "text": [
                        "Loaded 26 satellites\n",
                        "                  Name   Latitude   Longitude     Elevation\n",
                        "0   GSAT0101 (PRN E11)  15.140324   36.775986  2.322455e+07\n",
                        "1   GSAT0102 (PRN E12) -23.277742   63.241711  2.323416e+07\n",
                        "2   GSAT0103 (PRN E19)  34.334253  138.944276  2.323352e+07\n",
                        "3   GSAT0104 (PRN E20)  20.584022  152.208507  2.322512e+07\n",
                        "4   GSAT0201 (PRN E18) -49.319793  108.311841  2.607700e+07\n",
                        "5   GSAT0202 (PRN E14)  50.231683  -80.581534  1.717439e+07\n",
                        "6   GSAT0203 (PRN E26) -48.856165  178.209013  2.323903e+07\n",
                        "7   GSAT0204 (PRN E22)  32.114249   22.663401  2.321943e+07\n",
                        "8   GSAT0205 (PRN E24) -53.786463   40.001653  2.323781e+07\n",
                        "9   GSAT0206 (PRN E30)  25.804426  -91.417186  2.322888e+07\n",
                        "10  GSAT0209 (PRN E09)  32.544200   13.496894  2.322377e+07\n",
                        "11  GSAT0208 (PRN E08) -54.931722 -109.762880  2.323417e+07\n",
                        "12  GSAT0211 (PRN E02) -10.022031  -65.554294  2.322710e+07\n",
                        "13  GSAT0210 (PRN E01)  10.318855  114.655180  2.322501e+07\n",
                        "14  GSAT0207 (PRN E07) -32.648187 -165.764525  2.323003e+07\n",
                        "15  GSAT0212 (PRN E03) -37.890460  -45.971900  2.322401e+07\n",
                        "16  GSAT0213 (PRN E04)  54.668620   72.022233  2.324234e+07\n",
                        "17  GSAT0214 (PRN E05)  -2.717313  -14.572448  2.321946e+07\n",
                        "18  GSAT0215 (PRN E21)  43.107078  146.594536  2.323700e+07\n",
                        "19  GSAT0216 (PRN E25) -43.408296  -32.911183  2.322361e+07\n",
                        "20  GSAT0217 (PRN E27)  54.503314 -143.613358  2.324410e+07\n",
                        "21  GSAT0218 (PRN E31) -27.737220   86.664828  2.322217e+07\n",
                        "22  GSAT0221 (PRN E15)  23.275034 -117.062762  2.322544e+07\n",
                        "23  GSAT0222 (PRN E33) -53.445015  107.659756  2.323813e+07\n",
                        "24  GSAT0219 (PRN E36)  47.953926    0.834174  2.323101e+07\n",
                        "25  GSAT0220 (PRN E13) -14.356890 -142.790028  2.322409e+07\n"
                    ]
                }
            ],
            "metadata": {}
        },
        {
            "cell_type": "code",
            "execution_count": 12,
            "source": [
                "# galileo\n",
                "name = sat_datasets.get(\"space_stations\", {}).get(\"name\")\n",
                "url = sat_datasets.get(\"space_stations\", {}).get(\"url\")\n",
                "\n",
                "create_dataset(name, url)\n"
            ],
            "outputs": [
                {
                    "output_type": "stream",
                    "name": "stdout",
                    "text": [
                        "Loaded 66 satellites\n",
                        "                      Name   Latitude   Longitude      Elevation\n",
                        "0              ISS (ZARYA)  44.588188   -3.843153  425318.430184\n",
                        "1   KESTREL EYE IIM (KE2M)  36.206737  171.076700  239454.940293\n",
                        "2             AEROCUBE 12A  50.422105 -132.972825  478324.979104\n",
                        "3             AEROCUBE 12B  -9.626490  -51.076857  478258.166178\n",
                        "4               LEMUR-2-VU -22.365898   91.820325  464293.003554\n",
                        "..                     ...        ...         ...            ...\n",
                        "61                   BD-28 -50.738128 -160.792403  433314.361296\n",
                        "62               MIR-SAT 1 -45.855760  179.090050  430225.369754\n",
                        "63          PROGRESS-MS 17  44.586433   -3.849468  425287.975458\n",
                        "64             ISS (NAUKA)  44.586433   -3.849468  425287.975458\n",
                        "65               SL-25 R/B  -9.619480  128.018970  180305.309921\n",
                        "\n",
                        "[66 rows x 4 columns]\n"
                    ]
                }
            ],
            "metadata": {}
        },
        {
            "cell_type": "code",
            "execution_count": 13,
            "source": [
                "# gps\n",
                "name = sat_datasets.get(\"gps\", {}).get(\"name\")\n",
                "url = sat_datasets.get(\"gps\", {}).get(\"url\")\n",
                "\n",
                "create_dataset(name, url)\n"
            ],
            "outputs": [
                {
                    "output_type": "stream",
                    "name": "stdout",
                    "text": [
                        "Loaded 30 satellites\n",
                        "                    Name   Latitude   Longitude     Elevation\n",
                        "0   GPS BIIR-2  (PRN 13) -39.049042 -141.126285  2.032828e+07\n",
                        "1   GPS BIIR-4  (PRN 20) -34.255827 -100.821851  2.030912e+07\n",
                        "2   GPS BIIR-8  (PRN 16) -48.572576   72.246040  2.026908e+07\n",
                        "3   GPS BIIR-9  (PRN 21)  24.816199   34.194983  2.072008e+07\n",
                        "4   GPS BIIR-10 (PRN 22)  53.574333   26.569307  2.034607e+07\n",
                        "5   GPS BIIR-11 (PRN 19)  55.939451  -78.315277  1.995795e+07\n",
                        "6   GPS BIIR-13 (PRN 02)   8.755727 -120.690494  2.023564e+07\n",
                        "7   GPS BIIRM-1 (PRN 17)  47.365195  -45.515710  2.050876e+07\n",
                        "8   GPS BIIRM-2 (PRN 31)  25.360970   78.433582  1.992761e+07\n",
                        "9   GPS BIIRM-3 (PRN 12)  51.665388 -179.142070  1.997597e+07\n",
                        "10  GPS BIIRM-4 (PRN 15) -26.182130 -167.837106  2.050997e+07\n",
                        "11  GPS BIIRM-5 (PRN 29) -17.107743  169.842061  2.022907e+07\n",
                        "12  GPS BIIRM-6 (PRN 07) -54.460783  -27.865150  1.990790e+07\n",
                        "13  GPS BIIRM-8 (PRN 05) -53.266199 -135.040742  2.030439e+07\n",
                        "14  GPS BIIF-1  (PRN 25)  35.500764  147.192102  1.993203e+07\n",
                        "15  GPS BIIF-2  (PRN 01)  39.862560   24.462265  2.013323e+07\n",
                        "16  GPS BIIF-3  (PRN 24)  28.492148 -150.263566  2.024080e+07\n",
                        "17  GPS BIIF-4  (PRN 27) -45.585276   41.053613  2.042353e+07\n",
                        "18  GPS BIIF-5  (PRN 30) -43.816394  -76.341229  2.007674e+07\n",
                        "19  GPS BIIF-6  (PRN 06)  30.015009  -99.876131  2.018835e+07\n",
                        "20  GPS BIIF-7  (PRN 09) -20.252446  -18.712269  2.021869e+07\n",
                        "21  GPS BIIF-8  (PRN 03)  51.517419   -3.213273  2.009979e+07\n",
                        "22  GPS BIIF-9  (PRN 26) -25.563972   94.459696  2.008217e+07\n",
                        "23  GPS BIIF-10 (PRN 08) -26.822879   16.776150  2.033322e+07\n",
                        "24  GPS BIIF-11 (PRN 10)   2.667229  115.494071  2.003624e+07\n",
                        "25  GPS BIIF-12 (PRN 32)  49.739574  120.975792  2.024779e+07\n",
                        "26  GPS BIII-1  (PRN 04)   3.636176    1.925905  2.021790e+07\n",
                        "27  GPS BIII-2  (PRN 18) -55.163639  139.124314  2.020311e+07\n",
                        "28  GPS BIII-3  (PRN 23) -22.062793  132.218665  2.016439e+07\n",
                        "29  GPS BIII-4  (PRN 14)   3.692557  -62.660253  2.015959e+07\n"
                    ]
                }
            ],
            "metadata": {}
        }
    ],
    "metadata": {
        "orig_nbformat": 4,
        "language_info": {
            "name": "python",
            "version": "3.8.10",
            "mimetype": "text/x-python",
            "codemirror_mode": {
                "name": "ipython",
                "version": 3
            },
            "pygments_lexer": "ipython3",
            "nbconvert_exporter": "python",
            "file_extension": ".py"
        },
        "kernelspec": {
            "name": "python3",
            "display_name": "Python 3.8.10 64-bit ('base': conda)"
        },
        "interpreter": {
            "hash": "8d71d19f66818dae96964f11a2d9c414f1f10fd3c6009bdb3ec8a4349b682022"
        }
    },
    "nbformat": 4,
    "nbformat_minor": 2
}