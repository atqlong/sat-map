{
    "cells": [
        {
            "cell_type": "markdown",
            "source": [
                "<h1>Starlink Data</h1>"
            ],
            "metadata": {}
        },
        {
            "cell_type": "code",
            "execution_count": 5,
            "source": [
                "import pandas as pd\n",
                "from skyfield.api import EarthSatellite, load, wgs84\n",
                "from datetime import datetime\n",
                "\n",
                "# Starlink\n",
                "\n",
                "# Collect TLE data from URL\n",
                "data_url = 'https://celestrak.com/NORAD/elements/starlink.txt'\n",
                "satellites = load.tle_file(data_url)\n",
                "print('Loaded', len(satellites), 'satellites')\n",
                "\n",
                "# Set the time of the dataset e.g. ts.now() gives you the positioning data of the satellites now.\n",
                "ts = load.timescale()\n",
                "t = ts.now()\n",
                "\n",
                "# datetime object containing current date and time\n",
                "now = datetime.now()\n",
                "\n",
                "# dd/mm/YY H:M:S\n",
                "export_time = now.strftime(\"%d-%m-%Y\")\n",
                "\n",
                "# Arrays to store cleaned data.\n",
                "name = []\n",
                "lat = []\n",
                "long = []\n",
                "el = []\n",
                "\n",
                "# Create columns for Pandas\n",
                "cols = [\"name\", \"latitude\", \"longitude\", \"elevation\"]\n",
                "\n",
                "# Use Skyfeild to clean the TLE file and append the data to a column array.\n",
                "for sat in satellites:\n",
                "    geometry = sat.at(t)\n",
                "    subpoint = geometry.subpoint()\n",
                "    satname = sat.name\n",
                "    latitude = subpoint.latitude.degrees\n",
                "    longitude = subpoint.longitude.degrees\n",
                "    elevation = subpoint.elevation.km\n",
                "\n",
                "    name.append(sat.name)\n",
                "    lat.append(latitude)\n",
                "    long.append(longitude)\n",
                "    el.append(elevation)\n",
                "\n",
                "# Merge the cleaned columns into a dataframe\n",
                "sat_data = pd.DataFrame(\n",
                "    {'Name': name, 'Latitude': lat, 'Longitude': long, 'Elevation': el})\n",
                "\n",
                "# Write a csv file with the cleaned data.\n",
                "sat_data.to_csv(\"starlink \" + export_time + \".csv\")\n",
                "\n",
                "print(sat_data)\n"
            ],
            "outputs": [
                {
                    "output_type": "stream",
                    "name": "stdout",
                    "text": [
                        "Loaded 1661 satellites\n",
                        "               Name   Latitude   Longitude   Elevation\n",
                        "0       STARLINK-24  29.609930  139.350785  517.703686\n",
                        "1       STARLINK-61 -30.283646  -68.583511  510.790674\n",
                        "2       STARLINK-71 -51.924417 -121.252836  529.635918\n",
                        "3       STARLINK-43 -38.514398 -170.300437  441.173514\n",
                        "4       STARLINK-70 -45.305580 -157.380101  389.119321\n",
                        "...             ...        ...         ...         ...\n",
                        "1656  STARLINK-2753  40.641849  -25.981839  352.840680\n",
                        "1657  STARLINK-2715  41.047676  -25.284199  352.468170\n",
                        "1658  STARLINK-3003  41.049445   21.753212  516.129827\n",
                        "1659  STARLINK-3004  45.088060   22.753177  517.220401\n",
                        "1660  STARLINK-3005  29.514140   19.459381  520.176360\n",
                        "\n",
                        "[1661 rows x 4 columns]\n"
                    ]
                }
            ],
            "metadata": {}
        }
    ],
    "metadata": {
        "orig_nbformat": 4,
        "language_info": {
            "name": "python",
            "version": "3.8.10",
            "mimetype": "text/x-python",
            "codemirror_mode": {
                "name": "ipython",
                "version": 3
            },
            "pygments_lexer": "ipython3",
            "nbconvert_exporter": "python",
            "file_extension": ".py"
        },
        "kernelspec": {
            "name": "python3",
            "display_name": "Python 3.8.10 64-bit ('base': conda)"
        },
        "interpreter": {
            "hash": "8d71d19f66818dae96964f11a2d9c414f1f10fd3c6009bdb3ec8a4349b682022"
        }
    },
    "nbformat": 4,
    "nbformat_minor": 2
}