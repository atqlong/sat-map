{
    "cells": [
        {
            "cell_type": "code",
            "execution_count": 5,
            "source": [
                "import pandas as pd\n",
                "from skyfield.api import EarthSatellite, load, wgs84\n",
                "from datetime import datetime\n",
                "\n",
                "# Active\n",
                "\n",
                "# Collect TLE data from URL\n",
                "data_url = 'https://celestrak.com/NORAD/elements/active.txt'\n",
                "satellites = load.tle_file(data_url)\n",
                "print('Loaded', len(satellites), 'satellites')\n",
                "\n",
                "# Set the time of the dataset e.g. ts.now() gives you the positioning data of the satellites now.\n",
                "ts = load.timescale()\n",
                "t = ts.now()\n",
                "\n",
                "# datetime object containing current date and time\n",
                "now = datetime.now()\n",
                "\n",
                "# dd/mm/YY H:M:S\n",
                "export_time = now.strftime(\"%d-%m-%Y\")\n",
                "\n",
                "# Arrays to store cleaned data.\n",
                "name = []\n",
                "lat  = []\n",
                "long = []\n",
                "el   = []\n",
                "\n",
                "# Create columns for Pandas\n",
                "cols = [\"name\", \"latitude\", \"longitude\", \"elevation\"]\n",
                "\n",
                "# Use Skyfeild to clean the TLE file and append the data to a column array.\n",
                "for sat in satellites:\n",
                "    geometry = sat.at(t)\n",
                "    subpoint = geometry.subpoint()\n",
                "    satname = sat.name\n",
                "    latitude = subpoint.latitude.degrees\n",
                "    longitude = subpoint.longitude.degrees\n",
                "    elevation = subpoint.elevation.km\n",
                "\n",
                "    name.append(sat.name)\n",
                "    lat.append(latitude)\n",
                "    long.append(longitude)\n",
                "    el.append(elevation)\n",
                "\n",
                "# Merge the cleaned columns into a dataframe\n",
                "sat_data = pd.DataFrame({'Name': name, 'Latitude': lat, 'Longitude': long, 'Elevation': el})\n",
                "\n",
                "# Write a csv file with the cleaned data.\n",
                "sat_data.to_csv(\"active-sats \" + export_time + \".csv\")\n",
                "\n",
                "print(sat_data)"
            ],
            "outputs": [
                {
                    "output_type": "stream",
                    "name": "stderr",
                    "text": [
                        "[#################################] 100% active.txt\n"
                    ]
                },
                {
                    "output_type": "stream",
                    "name": "stdout",
                    "text": [
                        "Loaded 4597 satellites\n",
                        "              Name   Latitude   Longitude    Elevation\n",
                        "0      CALSPHERE 1 -78.789698  127.340738   996.313120\n",
                        "1      CALSPHERE 2 -30.277885  130.920693  1085.579176\n",
                        "2            LCS 1   0.837931  174.468698  2775.902260\n",
                        "3        TEMPSAT 1 -61.807394  134.288127  1160.276378\n",
                        "4     CALSPHERE 4A -42.306322 -137.013722  1181.784712\n",
                        "...            ...        ...         ...          ...\n",
                        "4592  YAOGAN-30 AE  24.183612 -114.965391   607.499064\n",
                        "4593  YAOGAN-30 AF -33.602908   33.556694   602.018926\n",
                        "4594   ISS (NAUKA)  11.979391 -162.383638   419.752621\n",
                        "4595     2021-067A  24.824890   22.903007   499.670582\n",
                        "4596     2021-068B  36.566770  -86.483162   609.509801\n",
                        "\n",
                        "[4597 rows x 4 columns]\n"
                    ]
                }
            ],
            "metadata": {}
        }
    ],
    "metadata": {
        "orig_nbformat": 4,
        "language_info": {
            "name": "python",
            "version": "3.8.10",
            "mimetype": "text/x-python",
            "codemirror_mode": {
                "name": "ipython",
                "version": 3
            },
            "pygments_lexer": "ipython3",
            "nbconvert_exporter": "python",
            "file_extension": ".py"
        },
        "kernelspec": {
            "name": "python3",
            "display_name": "Python 3.8.10 64-bit ('base': conda)"
        },
        "interpreter": {
            "hash": "8d71d19f66818dae96964f11a2d9c414f1f10fd3c6009bdb3ec8a4349b682022"
        }
    },
    "nbformat": 4,
    "nbformat_minor": 2
}