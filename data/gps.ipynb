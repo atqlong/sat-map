{
    "cells": [
        {
            "cell_type": "markdown",
            "source": [
                "<h1>GPS Data<h1>"
            ],
            "metadata": {}
        },
        {
            "cell_type": "code",
            "execution_count": 3,
            "source": [
                "import pandas as pd\n",
                "from skyfield.api import EarthSatellite, load, wgs84\n",
                "from datetime import datetime\n",
                "\n",
                "# GPS data\n",
                "\n",
                "# Collect TLE data from URL\n",
                "data_url = 'https://celestrak.com/NORAD/elements/gps-ops.txt'\n",
                "satellites = load.tle_file(data_url)\n",
                "print('Loaded', len(satellites), 'satellites')\n",
                "\n",
                "# Set the time of the dataset e.g. ts.now() gives you the positioning data of the satellites now.\n",
                "ts = load.timescale()\n",
                "t = ts.now()\n",
                "\n",
                "# datetime object containing current date and time\n",
                "now = datetime.now()\n",
                "\n",
                "# dd/mm/YY H:M:S\n",
                "export_time = now.strftime(\"%d-%m-%Y\")\n",
                "\n",
                "# Arrays to store cleaned data.\n",
                "name = []\n",
                "lat = []\n",
                "long = []\n",
                "el = []\n",
                "\n",
                "# Create columns for Pandas\n",
                "cols = [\"name\", \"latitude\", \"longitude\", \"elevation\"]\n",
                "\n",
                "# Use Skyfeild to clean the TLE file and append the data to a column array.\n",
                "for sat in satellites:\n",
                "    geometry = sat.at(t)\n",
                "    subpoint = geometry.subpoint()\n",
                "    satname = sat.name\n",
                "    latitude = subpoint.latitude.degrees\n",
                "    longitude = subpoint.longitude.degrees\n",
                "    elevation = subpoint.elevation.m\n",
                "\n",
                "    name.append(sat.name)\n",
                "    lat.append(latitude)\n",
                "    long.append(longitude)\n",
                "    el.append(elevation)\n",
                "\n",
                "# Merge the cleaned columns into a dataframe\n",
                "sat_data = pd.DataFrame(\n",
                "    {'Name': name, 'Latitude': lat, 'Longitude': long, 'Elevation': el})\n",
                "\n",
                "# Write a csv file with the cleaned data.\n",
                "sat_data.to_csv(\"gps \" + export_time + \".csv\")\n",
                "\n",
                "print(sat_data)\n"
            ],
            "outputs": [
                {
                    "output_type": "stream",
                    "name": "stdout",
                    "text": [
                        "Loaded 30 satellites\n",
                        "                    Name   Latitude   Longitude     Elevation\n",
                        "0   GPS BIIR-2  (PRN 13) -53.429462 -120.919779  2.032361e+07\n",
                        "1   GPS BIIR-4  (PRN 20) -13.686518  -94.961114  2.032835e+07\n",
                        "2   GPS BIIR-8  (PRN 16) -30.295773   85.513594  2.010921e+07\n",
                        "3   GPS BIIR-9  (PRN 21)   3.511393   36.967293  2.049956e+07\n",
                        "4   GPS BIIR-10 (PRN 22)  44.231412   52.223003  2.037411e+07\n",
                        "5   GPS BIIR-11 (PRN 19)  44.514535  -51.355357  1.995267e+07\n",
                        "6   GPS BIIR-13 (PRN 02)  30.225124 -116.695172  2.047954e+07\n",
                        "7   GPS BIIRM-1 (PRN 17)  28.731710  -34.247879  2.039204e+07\n",
                        "8   GPS BIIRM-2 (PRN 31)  44.739575   89.554513  1.999695e+07\n",
                        "9   GPS BIIRM-3 (PRN 12)  54.674438 -145.760714  2.000393e+07\n",
                        "10  GPS BIIRM-4 (PRN 15) -44.030237 -156.944478  2.054790e+07\n",
                        "11  GPS BIIRM-5 (PRN 29)   5.556083  171.630507  2.021036e+07\n",
                        "12  GPS BIIRM-6 (PRN 07) -44.664120   -0.575231  2.006908e+07\n",
                        "13  GPS BIIRM-8 (PRN 05) -39.609196 -113.965344  2.023280e+07\n",
                        "14  GPS BIIF-1  (PRN 25)  51.636639  165.537536  1.994504e+07\n",
                        "15  GPS BIIF-2  (PRN 01)  18.874806   31.247463  2.026639e+07\n",
                        "16  GPS BIIF-3  (PRN 24)   7.342721 -145.830288  2.036620e+07\n",
                        "17  GPS BIIF-4  (PRN 27) -55.784936   67.606952  2.035629e+07\n",
                        "18  GPS BIIF-5  (PRN 30) -53.569342  -50.256091  2.013184e+07\n",
                        "19  GPS BIIF-6  (PRN 06)  48.631185  -87.245902  2.022074e+07\n",
                        "20  GPS BIIF-7  (PRN 09)   1.903489  -15.925777  2.019378e+07\n",
                        "21  GPS BIIF-8  (PRN 03)  54.623590   29.452405  2.012673e+07\n",
                        "22  GPS BIIF-9  (PRN 26)  -3.685665   98.421366  2.003467e+07\n",
                        "23  GPS BIIF-10 (PRN 08) -45.725150   27.623392  2.028440e+07\n",
                        "24  GPS BIIF-11 (PRN 10) -20.078813  118.076439  2.000682e+07\n",
                        "25  GPS BIIF-12 (PRN 32)  32.805998  136.387808  2.017905e+07\n",
                        "26  GPS BIII-1  (PRN 04)  25.627654    5.227743  2.021911e+07\n",
                        "27  GPS BIII-2  (PRN 18) -49.895610  170.380749  2.022165e+07\n",
                        "28  GPS BIII-3  (PRN 23) -42.127661  140.925192  2.018754e+07\n",
                        "29  GPS BIII-4  (PRN 14) -18.646269  -60.021289  2.016600e+07\n"
                    ]
                }
            ],
            "metadata": {}
        }
    ],
    "metadata": {
        "orig_nbformat": 4,
        "language_info": {
            "name": "python",
            "version": "3.8.10",
            "mimetype": "text/x-python",
            "codemirror_mode": {
                "name": "ipython",
                "version": 3
            },
            "pygments_lexer": "ipython3",
            "nbconvert_exporter": "python",
            "file_extension": ".py"
        },
        "kernelspec": {
            "name": "python3",
            "display_name": "Python 3.8.10 64-bit ('base': conda)"
        },
        "interpreter": {
            "hash": "8d71d19f66818dae96964f11a2d9c414f1f10fd3c6009bdb3ec8a4349b682022"
        }
    },
    "nbformat": 4,
    "nbformat_minor": 2
}