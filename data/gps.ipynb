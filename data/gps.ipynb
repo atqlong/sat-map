{
    "cells": [
        {
            "cell_type": "markdown",
            "source": [
                "<h1>GPS Data<h1>"
            ],
            "metadata": {}
        },
        {
            "cell_type": "code",
            "execution_count": 2,
            "source": [
                "import pandas as pd\n",
                "from skyfield.api import EarthSatellite, load, wgs84\n",
                "from datetime import datetime\n",
                "\n",
                "# GPS data\n",
                "\n",
                "# Collect TLE data from URL\n",
                "data_url = 'https://celestrak.com/NORAD/elements/gps-ops.txt'\n",
                "satellites = load.tle_file(data_url)\n",
                "print('Loaded', len(satellites), 'satellites')\n",
                "\n",
                "# Set the time of the dataset e.g. ts.now() gives you the positioning data of the satellites now.\n",
                "ts = load.timescale()\n",
                "t = ts.now()\n",
                "\n",
                "# datetime object containing current date and time\n",
                "now = datetime.now()\n",
                "\n",
                "# dd/mm/YY H:M:S\n",
                "export_time = now.strftime(\"%d-%m-%Y\")\n",
                "\n",
                "# Arrays to store cleaned data.\n",
                "name = []\n",
                "lat = []\n",
                "long = []\n",
                "el = []\n",
                "\n",
                "# Create columns for Pandas\n",
                "cols = [\"name\", \"latitude\", \"longitude\", \"elevation\"]\n",
                "\n",
                "# Use Skyfeild to clean the TLE file and append the data to a column array.\n",
                "for sat in satellites:\n",
                "    geometry = sat.at(t)\n",
                "    subpoint = geometry.subpoint()\n",
                "    satname = sat.name\n",
                "    latitude = subpoint.latitude.degrees\n",
                "    longitude = subpoint.longitude.degrees\n",
                "    elevation = subpoint.elevation.km\n",
                "\n",
                "    name.append(sat.name)\n",
                "    lat.append(latitude)\n",
                "    long.append(longitude)\n",
                "    el.append(elevation)\n",
                "\n",
                "# Merge the cleaned columns into a dataframe\n",
                "sat_data = pd.DataFrame(\n",
                "    {'Name': name, 'Latitude': lat, 'Longitude': long, 'Elevation': el})\n",
                "\n",
                "# Write a csv file with the cleaned data.\n",
                "sat_data.to_csv(\"gps \" + export_time + \".csv\")\n",
                "\n",
                "print(sat_data)\n"
            ],
            "outputs": [
                {
                    "output_type": "stream",
                    "name": "stderr",
                    "text": [
                        "[#################################] 100% gps-ops.txt\n"
                    ]
                },
                {
                    "output_type": "stream",
                    "name": "stdout",
                    "text": [
                        "Loaded 30 satellites\n",
                        "                    Name   Latitude   Longitude     Elevation\n",
                        "0   GPS BIIR-2  (PRN 13)  53.604735  149.937399  20068.483447\n",
                        "1   GPS BIIR-4  (PRN 20)  13.722501  174.952144  20037.961111\n",
                        "2   GPS BIIR-8  (PRN 16)  28.138340   -2.462896  20274.870485\n",
                        "3   GPS BIIR-9  (PRN 21)   0.545437  -50.237147  19890.007615\n",
                        "4   GPS BIIR-10 (PRN 22) -44.278167  -37.931029  20012.898974\n",
                        "5   GPS BIIR-11 (PRN 19) -44.743920 -141.819011  20432.055910\n",
                        "6   GPS BIIR-13 (PRN 02) -27.335005  150.419563  19910.609069\n",
                        "7   GPS BIIRM-1 (PRN 17) -26.667957 -122.430375  19988.164894\n",
                        "8   GPS BIIRM-2 (PRN 31) -43.871770   -2.154541  20388.299094\n",
                        "9   GPS BIIRM-3 (PRN 12) -54.849402  122.857977  20389.641841\n",
                        "10  GPS BIIRM-4 (PRN 15)  44.170404  113.288065  19836.607663\n",
                        "11  GPS BIIRM-5 (PRN 29)  -5.965561   81.847273  20153.760263\n",
                        "12  GPS BIIRM-6 (PRN 07)  46.441982  -94.397165  20328.518018\n",
                        "13  GPS BIIRM-8 (PRN 05)  38.634474  157.363276  20148.299935\n",
                        "14  GPS BIIF-1  (PRN 25) -51.420382   74.662792  20443.762946\n",
                        "15  GPS BIIF-2  (PRN 01) -20.758339  -60.263819  20108.820824\n",
                        "16  GPS BIIF-3  (PRN 24)  -8.900209  122.932605  20004.359830\n",
                        "17  GPS BIIF-4  (PRN 27)  55.902208  -19.257002  20040.377670\n",
                        "18  GPS BIIF-5  (PRN 30)  53.484581 -141.955718  20260.560474\n",
                        "19  GPS BIIF-6  (PRN 06) -48.453641 -177.712176  20164.777941\n",
                        "20  GPS BIIF-7  (PRN 09)  -2.366092 -105.656008  20172.954196\n",
                        "21  GPS BIIF-8  (PRN 03) -54.736017  -61.485752  20263.350346\n",
                        "22  GPS BIIF-9  (PRN 26)   3.191757    8.723827  20329.271452\n",
                        "23  GPS BIIF-10 (PRN 08)  46.499995  -60.844523  20102.869248\n",
                        "24  GPS BIIF-11 (PRN 10)  20.340862   28.228311  20363.204434\n",
                        "25  GPS BIIF-12 (PRN 32) -31.872057   47.355509  20199.904203\n",
                        "26  GPS BIII-1  (PRN 04) -25.810766  -84.663792  20154.492351\n",
                        "27  GPS BIII-2  (PRN 18)  49.994800   80.037762  20166.925266\n",
                        "28  GPS BIII-3  (PRN 23)  41.994480   50.653404  20195.661584\n",
                        "29  GPS BIII-4  (PRN 14)  18.648487 -150.078073  20204.816827\n"
                    ]
                }
            ],
            "metadata": {}
        }
    ],
    "metadata": {
        "orig_nbformat": 4,
        "language_info": {
            "name": "python",
            "version": "3.8.10",
            "mimetype": "text/x-python",
            "codemirror_mode": {
                "name": "ipython",
                "version": 3
            },
            "pygments_lexer": "ipython3",
            "nbconvert_exporter": "python",
            "file_extension": ".py"
        },
        "kernelspec": {
            "name": "python3",
            "display_name": "Python 3.8.10 64-bit ('base': conda)"
        },
        "interpreter": {
            "hash": "8d71d19f66818dae96964f11a2d9c414f1f10fd3c6009bdb3ec8a4349b682022"
        }
    },
    "nbformat": 4,
    "nbformat_minor": 2
}