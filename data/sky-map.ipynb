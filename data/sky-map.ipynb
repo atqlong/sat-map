{
    "cells": [
        {
            "cell_type": "code",
            "execution_count": 68,
            "source": [
                "import pandas as pd\n",
                "from skyfield.api import EarthSatellite, load, wgs84\n",
                "\n",
                "starlink_url = 'https://celestrak.com/NORAD/elements/starlink.txt'\n",
                "satellites = load.tle_file(starlink_url)\n",
                "print('Loaded', len(satellites), 'satellites')\n",
                "\n",
                "# You can instead use ts.now() for the current time\n",
                "ts = load.timescale()\n",
                "t = ts.now()\n",
                "\n",
                "# c = csv.writer(open(\"starlink.csv\", \"w\"))\n",
                "\n",
                "name = []\n",
                "lat  = []\n",
                "long = []\n",
                "el   = []\n",
                "\n",
                "cols = [\"name\", \"latitude\", \"longitude\", \"elevation\"]\n",
                "\n",
                "for sat in satellites:\n",
                "    geometry = sat.at(t)\n",
                "    subpoint = geometry.subpoint()\n",
                "    satname = sat.name\n",
                "    latitude = subpoint.latitude.degrees\n",
                "    longitude = subpoint.longitude.degrees\n",
                "    elevation = subpoint.elevation.km\n",
                "\n",
                "    name.append(sat.name)\n",
                "    lat.append(latitude)\n",
                "    long.append(longitude)\n",
                "    el.append(elevation)\n",
                "\n",
                "star = pd.DataFrame({'Name': name, 'Latitude': lat, 'Longitude': long, 'Elevation': el})\n",
                "\n",
                "star.to_csv(\"starlink.csv\")\n",
                "\n",
                "\n",
                "print(star)\n"
            ],
            "outputs": [
                {
                    "output_type": "stream",
                    "name": "stdout",
                    "text": [
                        "Loaded 1665 satellites\n",
                        "               Name   Latitude   Longitude   Elevation\n",
                        "0       STARLINK-24 -20.220538  -37.427890  522.424027\n",
                        "1       STARLINK-61  41.280290   -7.209346  504.972065\n",
                        "2       STARLINK-71  41.668804   21.602865  513.188115\n",
                        "3       STARLINK-43 -17.711176 -152.468557  434.056118\n",
                        "4       STARLINK-70   0.424605 -112.088243  377.509536\n",
                        "...             ...        ...         ...         ...\n",
                        "1660  STARLINK-2753 -29.030664  -94.448328  354.177694\n",
                        "1661  STARLINK-2715 -28.524520  -93.905733  357.478378\n",
                        "1662  STARLINK-3003  11.840360  160.388273  528.578661\n",
                        "1663  STARLINK-3004   7.687113  160.947716  528.976671\n",
                        "1664  STARLINK-3005  23.464040  158.706380  522.953608\n",
                        "\n",
                        "[1665 rows x 4 columns]\n"
                    ]
                }
            ],
            "metadata": {}
        },
        {
            "cell_type": "code",
            "execution_count": null,
            "source": [
                "starlink_url = 'https://celestrak.com/NORAD/elements/gps-ops.txt'\n",
                "satellites = load.tle_file(starlink_url)\n",
                "print('Loaded', len(satellites), 'satellites')\n",
                "\n",
                "# You can instead use ts.now() for the current time\n",
                "ts = load.timescale()\n",
                "t = ts.now()\n",
                "\n",
                "# c = csv.writer(open(\"starlink.csv\", \"w\"))\n",
                "\n",
                "name = []\n",
                "lat  = []\n",
                "long = []\n",
                "el   = []\n",
                "\n",
                "cols = [\"name\", \"latitude\", \"longitude\", \"elevation\"]\n",
                "\n",
                "for sat in satellites:\n",
                "    geometry = sat.at(t)\n",
                "    subpoint = geometry.subpoint()\n",
                "    satname = sat.name\n",
                "    latitude = subpoint.latitude.degrees\n",
                "    longitude = subpoint.longitude.degrees\n",
                "    elevation = subpoint.elevation.km\n",
                "\n",
                "    name.append(sat.name)\n",
                "    lat.append(latitude)\n",
                "    long.append(longitude)\n",
                "    el.append(elevation)\n",
                "\n",
                "sat_data = pd.DataFrame({'Name': name, 'Latitude': lat, 'Longitude': long, 'Elevation': el})\n",
                "\n",
                "sat_data.to_csv(\"gps-data.csv\")\n",
                "\n",
                "\n",
                "print(star)"
            ],
            "outputs": [],
            "metadata": {}
        }
    ],
    "metadata": {
        "orig_nbformat": 4,
        "language_info": {
            "name": "python",
            "version": "3.8.10",
            "mimetype": "text/x-python",
            "codemirror_mode": {
                "name": "ipython",
                "version": 3
            },
            "pygments_lexer": "ipython3",
            "nbconvert_exporter": "python",
            "file_extension": ".py"
        },
        "kernelspec": {
            "name": "python3",
            "display_name": "Python 3.8.10 64-bit ('base': conda)"
        },
        "interpreter": {
            "hash": "8d71d19f66818dae96964f11a2d9c414f1f10fd3c6009bdb3ec8a4349b682022"
        }
    },
    "nbformat": 4,
    "nbformat_minor": 2
}