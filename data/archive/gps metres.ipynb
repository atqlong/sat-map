{
    "cells": [
        {
            "cell_type": "markdown",
            "source": [
                "<h1>GPS Data<h1>"
            ],
            "metadata": {}
        },
        {
            "cell_type": "code",
            "execution_count": 12,
            "source": [
                "import pandas as pd\n",
                "from skyfield.api import EarthSatellite, load, wgs84\n",
                "from datetime import datetime\n",
                "\n",
                "# GPS data\n",
                "\n",
                "# Collect TLE data from URL\n",
                "data_url = 'https://celestrak.com/NORAD/elements/gps-ops.txt'\n",
                "satellites = load.tle_file(data_url)\n",
                "print('Loaded', len(satellites), 'satellites')\n",
                "\n",
                "# Set the time of the dataset e.g. ts.now() gives you the positioning data of the satellites now.\n",
                "ts = load.timescale()\n",
                "t = ts.now()\n",
                "\n",
                "# datetime object containing current date and time\n",
                "now = datetime.now()\n",
                "\n",
                "# dd/mm/YY H:M:S\n",
                "export_time = now.strftime(\"%d-%m-%Y\")\n",
                "\n",
                "# Arrays to store cleaned data.\n",
                "name = []\n",
                "lat = []\n",
                "long = []\n",
                "el = []\n",
                "\n",
                "# Create columns for Pandas\n",
                "cols = [\"name\", \"latitude\", \"longitude\", \"elevation\"]\n",
                "\n",
                "# Use Skyfeild to clean the TLE file and append the data to a column array.\n",
                "for sat in satellites:\n",
                "    geometry = sat.at(t)\n",
                "    data = geometry.position.km\n",
                "    satname = sat.name\n",
                "    \n",
                "    x = data[0]\n",
                "    y = data[1]\n",
                "    z = data[2]\n",
                "\n",
                "    name.append(sat.name)\n",
                "    lat.append(x)\n",
                "    long.append(y)\n",
                "    el.append(z)\n",
                "\n",
                "# Merge the cleaned columns into a dataframe\n",
                "sat_data = pd.DataFrame(\n",
                "    {'Name': name, 'Latitude': lat, 'Longitude': long, 'Elevation': el})\n",
                "\n",
                "# Write a csv file with the cleaned data.\n",
                "sat_data.to_csv(\"gps-test \" + export_time + \".csv\")\n",
                "\n",
                "print(sat_data)"
            ],
            "outputs": [
                {
                    "output_type": "stream",
                    "name": "stdout",
                    "text": [
                        "Loaded 30 satellites\n",
                        "                    Name      Latitude     Longitude     Elevation\n",
                        "0   GPS BIIR-2  (PRN 13)  14801.964768 -14721.961403  16367.231268\n",
                        "1   GPS BIIR-4  (PRN 20)  10033.992154 -20829.611755 -12866.627270\n",
                        "2   GPS BIIR-8  (PRN 16) -11307.456026  23395.561735  -6810.260441\n",
                        "3   GPS BIIR-9  (PRN 21)   5394.234741  19365.127041  17787.964293\n",
                        "4   GPS BIIR-10 (PRN 22)   -456.209637  26342.019102  -2173.223302\n",
                        "5   GPS BIIR-11 (PRN 19)  25485.682094  -7559.120999  -2016.504163\n",
                        "6   GPS BIIR-13 (PRN 02)   8410.485361 -12215.770692 -21386.183228\n",
                        "7   GPS BIIRM-1 (PRN 17)  25411.879562  -1863.024469   7914.300216\n",
                        "8   GPS BIIRM-2 (PRN 31) -16688.936988   4301.067501 -20171.811704\n",
                        "9   GPS BIIRM-3 (PRN 12)  -1100.284616 -24432.735996 -10440.522846\n",
                        "10  GPS BIIRM-4 (PRN 15)   3646.118903 -17769.978595  19132.160243\n",
                        "11  GPS BIIRM-5 (PRN 29) -16017.173337  -8882.450724 -19260.275999\n",
                        "12  GPS BIIRM-6 (PRN 07)  21297.720074  15121.387056   3353.228866\n",
                        "13  GPS BIIRM-8 (PRN 05)   4733.697992 -26199.579112  -1401.338323\n",
                        "14  GPS BIIF-1  (PRN 25)  -9619.345678 -17328.190380 -17813.692562\n",
                        "15  GPS BIIF-2  (PRN 01)  12752.205315  20377.070988  10635.693346\n",
                        "16  GPS BIIF-3  (PRN 24)  -9018.052245 -19912.071092  14553.788143\n",
                        "17  GPS BIIF-4  (PRN 27) -16632.799686  15738.905159  13585.172125\n",
                        "18  GPS BIIF-5  (PRN 30)  21850.613821   5704.167548  13860.130245\n",
                        "19  GPS BIIF-6  (PRN 06)  17730.769235  -1947.498702 -19601.034087\n",
                        "20  GPS BIIF-7  (PRN 09)  18284.503859   6760.833404 -18092.073704\n",
                        "21  GPS BIIF-8  (PRN 03)   2744.761979  24296.700313 -10324.933061\n",
                        "22  GPS BIIF-9  (PRN 26) -14114.131783  15797.480530 -16241.978858\n",
                        "23  GPS BIIF-10 (PRN 08)  -5733.338836  16813.898094  19827.819305\n",
                        "24  GPS BIIF-11 (PRN 10) -15458.911357   2991.758553  21545.850709\n",
                        "25  GPS BIIF-12 (PRN 32) -25579.301449   5691.696342   4986.227487\n",
                        "26  GPS BIII-1  (PRN 04)   6517.523388  13823.660766 -21712.822072\n",
                        "27  GPS BIII-2  (PRN 18) -21715.871846 -14162.564227   5552.359339\n",
                        "28  GPS BIII-3  (PRN 23) -12910.353772 -10268.913187  20780.679734\n",
                        "29  GPS BIII-4  (PRN 14)  15935.894608  -2776.483668  21067.140867\n"
                    ]
                }
            ],
            "metadata": {}
        }
    ],
    "metadata": {
        "orig_nbformat": 4,
        "language_info": {
            "name": "python",
            "version": "3.8.10",
            "mimetype": "text/x-python",
            "codemirror_mode": {
                "name": "ipython",
                "version": 3
            },
            "pygments_lexer": "ipython3",
            "nbconvert_exporter": "python",
            "file_extension": ".py"
        },
        "kernelspec": {
            "name": "python3",
            "display_name": "Python 3.8.10 64-bit ('base': conda)"
        },
        "interpreter": {
            "hash": "8d71d19f66818dae96964f11a2d9c414f1f10fd3c6009bdb3ec8a4349b682022"
        }
    },
    "nbformat": 4,
    "nbformat_minor": 2
}