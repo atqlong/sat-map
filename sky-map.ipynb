{
    "cells": [
        {
            "cell_type": "code",
            "execution_count": 66,
            "source": [
                "import pandas as pd\n",
                "from skyfield.api import EarthSatellite, load, wgs84\n",
                "\n",
                "starlink_url = 'https://celestrak.com/NORAD/elements/starlink.txt'\n",
                "satellites = load.tle_file(starlink_url)\n",
                "print('Loaded', len(satellites), 'satellites')\n",
                "\n",
                "# You can instead use ts.now() for the current time\n",
                "ts = load.timescale()\n",
                "t = ts.now()\n",
                "\n",
                "# c = csv.writer(open(\"starlink.csv\", \"w\"))\n",
                "\n",
                "name = []\n",
                "lat  = []\n",
                "long = []\n",
                "el   = []\n",
                "\n",
                "cols = [\"name\", \"latitude\", \"longitude\", \"elevation\"]\n",
                "\n",
                "for sat in satellites:\n",
                "    geometry = sat.at(t)\n",
                "    subpoint = geometry.subpoint()\n",
                "    satname = sat.name\n",
                "    latitude = subpoint.latitude.degrees\n",
                "    longitude = subpoint.longitude.degrees\n",
                "    elevation = subpoint.elevation.km\n",
                "\n",
                "    \n",
                "    name.append(sat.name)\n",
                "    lat.append(latitude)\n",
                "    long.append(longitude)\n",
                "    el.append(elevation)\n",
                "\n",
                "star = pd.DataFrame({'Name': name, 'Latitude': lat, 'Longitude': long, 'Elevation': el})\n",
                "\n",
                "\n",
                "\n",
                "print(star)\n"
            ],
            "outputs": [
                {
                    "output_type": "stream",
                    "name": "stdout",
                    "text": [
                        "Loaded 1665 satellites\n",
                        "               Name   Latitude   Longitude   Elevation\n",
                        "0       STARLINK-24 -33.568086  -50.017648  527.654012\n",
                        "1       STARLINK-61  29.044951  -22.558744  503.357060\n",
                        "2       STARLINK-71  29.530816    6.101018  510.880710\n",
                        "3       STARLINK-43 -31.542314 -164.795148  439.253474\n",
                        "4       STARLINK-70 -14.485470 -122.357872  380.767674\n",
                        "...             ...        ...         ...         ...\n",
                        "1660  STARLINK-2753 -41.647317 -110.406294  359.641879\n",
                        "1661  STARLINK-2715 -41.219521 -109.646871  362.989089\n",
                        "1662  STARLINK-3003  -6.158590  163.969283  530.710316\n",
                        "1663  STARLINK-3004 -10.308833  164.523581  531.661560\n",
                        "1664  STARLINK-3005   5.447167  162.448185  522.505319\n",
                        "\n",
                        "[1665 rows x 4 columns]\n"
                    ]
                }
            ],
            "metadata": {}
        }
    ],
    "metadata": {
        "orig_nbformat": 4,
        "language_info": {
            "name": "python",
            "version": "3.8.10",
            "mimetype": "text/x-python",
            "codemirror_mode": {
                "name": "ipython",
                "version": 3
            },
            "pygments_lexer": "ipython3",
            "nbconvert_exporter": "python",
            "file_extension": ".py"
        },
        "kernelspec": {
            "name": "python3",
            "display_name": "Python 3.8.8 64-bit ('base': conda)"
        },
        "interpreter": {
            "hash": "8d71d19f66818dae96964f11a2d9c414f1f10fd3c6009bdb3ec8a4349b682022"
        }
    },
    "nbformat": 4,
    "nbformat_minor": 2
}